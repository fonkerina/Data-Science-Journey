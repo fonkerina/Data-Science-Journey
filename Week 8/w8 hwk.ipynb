{
 "cells": [
  {
   "cell_type": "code",
   "execution_count": null,
   "id": "8c347c74",
   "metadata": {},
   "outputs": [],
   "source": [
    "import pandas as pd\n",
    "import matplotlib.pyplot as plt\n",
    "import seaborn as sns\n",
    "import numpy as np"
   ]
  },
  {
   "cell_type": "markdown",
   "id": "5b0f67a8",
   "metadata": {},
   "source": [
    "### Homework Part 1\n",
    "Topic modelling using tradiitonal NLP"
   ]
  },
  {
   "cell_type": "code",
   "execution_count": null,
   "id": "6aac4c66",
   "metadata": {},
   "outputs": [],
   "source": []
  },
  {
   "cell_type": "markdown",
   "id": "42fc2511",
   "metadata": {},
   "source": [
    "### Homework Part 2\n",
    "Topic modelling using transformers"
   ]
  },
  {
   "cell_type": "markdown",
   "id": "4af07b09",
   "metadata": {},
   "source": [
    "### Homework Part 3\n",
    "Visualisations of sentiment analysis and topic modelling"
   ]
  }
 ],
 "metadata": {
  "language_info": {
   "name": "python"
  }
 },
 "nbformat": 4,
 "nbformat_minor": 5
}

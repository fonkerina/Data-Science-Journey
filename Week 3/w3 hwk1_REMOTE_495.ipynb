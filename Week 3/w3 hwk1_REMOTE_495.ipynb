{
 "cells": [
  {
   "cell_type": "markdown",
   "id": "c4f1e266",
   "metadata": {},
   "source": [
    "#### Part 1 of week 3's homework task\n",
    "The aim is to plot **confusion matrices** and **ROC Curves** for various models, as well as learning more about evaluation metrics so that I am able to compare model performances."
   ]
  },
  {
   "cell_type": "code",
   "execution_count": 13,
   "id": "81e07d96",
   "metadata": {},
   "outputs": [
    {
     "name": "stdout",
     "output_type": "stream",
     "text": [
      "<class 'pandas.core.frame.DataFrame'>\n",
      "RangeIndex: 128 entries, 0 to 127\n",
      "Data columns (total 11 columns):\n",
      " #   Column                      Non-Null Count  Dtype  \n",
      "---  ------                      --------------  -----  \n",
      " 0   Age                         128 non-null    int64  \n",
      " 1   Gender                      128 non-null    object \n",
      " 2   BMI                         125 non-null    float64\n",
      " 3   Blood Pressure              128 non-null    object \n",
      " 4   FBS                         128 non-null    int64  \n",
      " 5   HbA1c                       128 non-null    float64\n",
      " 6   Family History of Diabetes  126 non-null    object \n",
      " 7   Smoking                     126 non-null    object \n",
      " 8   Diet                        126 non-null    object \n",
      " 9   Exercise                    127 non-null    object \n",
      " 10  Diagnosis                   128 non-null    object \n",
      "dtypes: float64(2), int64(2), object(7)\n",
      "memory usage: 11.1+ KB\n"
     ]
    }
   ],
   "source": [
    "import matplotlib.pyplot as plt \n",
    "import pandas as pd \n",
    "import numpy as np \n",
    "\n",
    "# Initialise dataset\n",
    "df = pd.read_csv(\"Diabetes-Classification.csv\")\n",
    "df.info()\n"
   ]
  },
  {
   "cell_type": "code",
   "execution_count": 14,
   "id": "a9b6f66e",
   "metadata": {},
   "outputs": [
    {
     "data": {
      "application/vnd.microsoft.datawrangler.viewer.v0+json": {
       "columns": [
        {
         "name": "index",
         "rawType": "object",
         "type": "string"
        },
        {
         "name": "0",
         "rawType": "int64",
         "type": "integer"
        }
       ],
       "ref": "0dc7224e-dd4a-4964-bb15-db47dc25177d",
       "rows": [
        [
         "Age",
         "0"
        ],
        [
         "Gender",
         "0"
        ],
        [
         "BMI",
         "0"
        ],
        [
         "Blood Pressure",
         "0"
        ],
        [
         "FBS",
         "0"
        ],
        [
         "HbA1c",
         "0"
        ],
        [
         "Family History of Diabetes",
         "0"
        ],
        [
         "Smoking",
         "0"
        ],
        [
         "Diet",
         "0"
        ],
        [
         "Exercise",
         "0"
        ],
        [
         "Diagnosis",
         "0"
        ]
       ],
       "shape": {
        "columns": 1,
        "rows": 11
       }
      },
      "text/plain": [
       "Age                           0\n",
       "Gender                        0\n",
       "BMI                           0\n",
       "Blood Pressure                0\n",
       "FBS                           0\n",
       "HbA1c                         0\n",
       "Family History of Diabetes    0\n",
       "Smoking                       0\n",
       "Diet                          0\n",
       "Exercise                      0\n",
       "Diagnosis                     0\n",
       "dtype: int64"
      ]
     },
     "execution_count": 14,
     "metadata": {},
     "output_type": "execute_result"
    }
   ],
   "source": [
    "# Clean up dataset\n",
    "df = df.dropna()\n",
    "df.isnull().sum()\n"
   ]
  },
  {
   "cell_type": "code",
   "execution_count": 15,
   "id": "1b149c03",
   "metadata": {},
   "outputs": [
    {
     "data": {
      "application/vnd.microsoft.datawrangler.viewer.v0+json": {
       "columns": [
        {
         "name": "index",
         "rawType": "int64",
         "type": "integer"
        },
        {
         "name": "Age",
         "rawType": "int64",
         "type": "integer"
        },
        {
         "name": "Gender",
         "rawType": "object",
         "type": "string"
        },
        {
         "name": "BMI",
         "rawType": "float64",
         "type": "float"
        },
        {
         "name": "Blood Pressure",
         "rawType": "object",
         "type": "string"
        },
        {
         "name": "FBS",
         "rawType": "int64",
         "type": "integer"
        },
        {
         "name": "HbA1c",
         "rawType": "float64",
         "type": "float"
        },
        {
         "name": "Family History of Diabetes",
         "rawType": "object",
         "type": "string"
        },
        {
         "name": "Smoking",
         "rawType": "object",
         "type": "string"
        },
        {
         "name": "Diet",
         "rawType": "object",
         "type": "string"
        },
        {
         "name": "Exercise",
         "rawType": "object",
         "type": "string"
        },
        {
         "name": "Diagnosis",
         "rawType": "object",
         "type": "string"
        }
       ],
       "ref": "271fa4fc-2a21-491e-a8b0-29d75629f5a9",
       "rows": [
        [
         "0",
         "45",
         "Male",
         "25.0",
         "Normal",
         "100",
         "5.7",
         "No",
         "No",
         "Healthy",
         "Regular",
         "No"
        ],
        [
         "1",
         "55",
         "Female",
         "30.0",
         "High",
         "120",
         "6.4",
         "Yes",
         "Yes",
         "Poor",
         "No",
         "Yes"
        ],
        [
         "2",
         "65",
         "Male",
         "35.0",
         "High",
         "140",
         "7.1",
         "Yes",
         "Yes",
         "Poor",
         "No",
         "Yes"
        ],
        [
         "3",
         "75",
         "Female",
         "40.0",
         "High",
         "160",
         "7.8",
         "Yes",
         "Yes",
         "Poor",
         "No",
         "Yes"
        ],
        [
         "5",
         "50",
         "Female",
         "25.0",
         "Normal",
         "100",
         "5.7",
         "No",
         "No",
         "Healthy",
         "Regular",
         "No"
        ]
       ],
       "shape": {
        "columns": 11,
        "rows": 5
       }
      },
      "text/html": [
       "<div>\n",
       "<style scoped>\n",
       "    .dataframe tbody tr th:only-of-type {\n",
       "        vertical-align: middle;\n",
       "    }\n",
       "\n",
       "    .dataframe tbody tr th {\n",
       "        vertical-align: top;\n",
       "    }\n",
       "\n",
       "    .dataframe thead th {\n",
       "        text-align: right;\n",
       "    }\n",
       "</style>\n",
       "<table border=\"1\" class=\"dataframe\">\n",
       "  <thead>\n",
       "    <tr style=\"text-align: right;\">\n",
       "      <th></th>\n",
       "      <th>Age</th>\n",
       "      <th>Gender</th>\n",
       "      <th>BMI</th>\n",
       "      <th>Blood Pressure</th>\n",
       "      <th>FBS</th>\n",
       "      <th>HbA1c</th>\n",
       "      <th>Family History of Diabetes</th>\n",
       "      <th>Smoking</th>\n",
       "      <th>Diet</th>\n",
       "      <th>Exercise</th>\n",
       "      <th>Diagnosis</th>\n",
       "    </tr>\n",
       "  </thead>\n",
       "  <tbody>\n",
       "    <tr>\n",
       "      <th>0</th>\n",
       "      <td>45</td>\n",
       "      <td>Male</td>\n",
       "      <td>25.0</td>\n",
       "      <td>Normal</td>\n",
       "      <td>100</td>\n",
       "      <td>5.7</td>\n",
       "      <td>No</td>\n",
       "      <td>No</td>\n",
       "      <td>Healthy</td>\n",
       "      <td>Regular</td>\n",
       "      <td>No</td>\n",
       "    </tr>\n",
       "    <tr>\n",
       "      <th>1</th>\n",
       "      <td>55</td>\n",
       "      <td>Female</td>\n",
       "      <td>30.0</td>\n",
       "      <td>High</td>\n",
       "      <td>120</td>\n",
       "      <td>6.4</td>\n",
       "      <td>Yes</td>\n",
       "      <td>Yes</td>\n",
       "      <td>Poor</td>\n",
       "      <td>No</td>\n",
       "      <td>Yes</td>\n",
       "    </tr>\n",
       "    <tr>\n",
       "      <th>2</th>\n",
       "      <td>65</td>\n",
       "      <td>Male</td>\n",
       "      <td>35.0</td>\n",
       "      <td>High</td>\n",
       "      <td>140</td>\n",
       "      <td>7.1</td>\n",
       "      <td>Yes</td>\n",
       "      <td>Yes</td>\n",
       "      <td>Poor</td>\n",
       "      <td>No</td>\n",
       "      <td>Yes</td>\n",
       "    </tr>\n",
       "    <tr>\n",
       "      <th>3</th>\n",
       "      <td>75</td>\n",
       "      <td>Female</td>\n",
       "      <td>40.0</td>\n",
       "      <td>High</td>\n",
       "      <td>160</td>\n",
       "      <td>7.8</td>\n",
       "      <td>Yes</td>\n",
       "      <td>Yes</td>\n",
       "      <td>Poor</td>\n",
       "      <td>No</td>\n",
       "      <td>Yes</td>\n",
       "    </tr>\n",
       "    <tr>\n",
       "      <th>5</th>\n",
       "      <td>50</td>\n",
       "      <td>Female</td>\n",
       "      <td>25.0</td>\n",
       "      <td>Normal</td>\n",
       "      <td>100</td>\n",
       "      <td>5.7</td>\n",
       "      <td>No</td>\n",
       "      <td>No</td>\n",
       "      <td>Healthy</td>\n",
       "      <td>Regular</td>\n",
       "      <td>No</td>\n",
       "    </tr>\n",
       "  </tbody>\n",
       "</table>\n",
       "</div>"
      ],
      "text/plain": [
       "   Age  Gender   BMI Blood Pressure  FBS  HbA1c Family History of Diabetes  \\\n",
       "0   45    Male  25.0         Normal  100    5.7                         No   \n",
       "1   55  Female  30.0           High  120    6.4                        Yes   \n",
       "2   65    Male  35.0           High  140    7.1                        Yes   \n",
       "3   75  Female  40.0           High  160    7.8                        Yes   \n",
       "5   50  Female  25.0         Normal  100    5.7                         No   \n",
       "\n",
       "  Smoking     Diet Exercise Diagnosis  \n",
       "0      No  Healthy  Regular        No  \n",
       "1     Yes     Poor       No       Yes  \n",
       "2     Yes     Poor       No       Yes  \n",
       "3     Yes     Poor       No       Yes  \n",
       "5      No  Healthy  Regular        No  "
      ]
     },
     "execution_count": 15,
     "metadata": {},
     "output_type": "execute_result"
    }
   ],
   "source": [
    "df.head()"
   ]
  },
  {
   "cell_type": "code",
   "execution_count": 16,
   "id": "2b96338c",
   "metadata": {},
   "outputs": [
    {
     "data": {
      "application/vnd.microsoft.datawrangler.viewer.v0+json": {
       "columns": [
        {
         "name": "index",
         "rawType": "int64",
         "type": "integer"
        },
        {
         "name": "Age",
         "rawType": "int64",
         "type": "integer"
        },
        {
         "name": "BMI",
         "rawType": "float64",
         "type": "float"
        },
        {
         "name": "FBS",
         "rawType": "int64",
         "type": "integer"
        },
        {
         "name": "HbA1c",
         "rawType": "float64",
         "type": "float"
        },
        {
         "name": "Diagnosis",
         "rawType": "object",
         "type": "string"
        },
        {
         "name": "Gender_Female",
         "rawType": "int64",
         "type": "integer"
        },
        {
         "name": "Gender_Male",
         "rawType": "int64",
         "type": "integer"
        },
        {
         "name": "Blood Pressure_High",
         "rawType": "int64",
         "type": "integer"
        },
        {
         "name": "Blood Pressure_Low",
         "rawType": "int64",
         "type": "integer"
        },
        {
         "name": "Blood Pressure_Normal",
         "rawType": "int64",
         "type": "integer"
        },
        {
         "name": "Family History of Diabetes_No",
         "rawType": "int64",
         "type": "integer"
        },
        {
         "name": "Family History of Diabetes_Yes",
         "rawType": "int64",
         "type": "integer"
        },
        {
         "name": "Smoking_No",
         "rawType": "int64",
         "type": "integer"
        },
        {
         "name": "Smoking_Yes",
         "rawType": "int64",
         "type": "integer"
        },
        {
         "name": "Diet_Healthy",
         "rawType": "int64",
         "type": "integer"
        },
        {
         "name": "Diet_Poor",
         "rawType": "int64",
         "type": "integer"
        },
        {
         "name": "Exercise_No",
         "rawType": "int64",
         "type": "integer"
        },
        {
         "name": "Exercise_Regular",
         "rawType": "int64",
         "type": "integer"
        }
       ],
       "ref": "9a95d5d8-2975-4e4a-a0bf-3dc423408db1",
       "rows": [
        [
         "0",
         "45",
         "25.0",
         "100",
         "5.7",
         "No",
         "0",
         "1",
         "0",
         "0",
         "1",
         "1",
         "0",
         "1",
         "0",
         "1",
         "0",
         "0",
         "1"
        ],
        [
         "1",
         "55",
         "30.0",
         "120",
         "6.4",
         "Yes",
         "1",
         "0",
         "1",
         "0",
         "0",
         "0",
         "1",
         "0",
         "1",
         "0",
         "1",
         "1",
         "0"
        ],
        [
         "2",
         "65",
         "35.0",
         "140",
         "7.1",
         "Yes",
         "0",
         "1",
         "1",
         "0",
         "0",
         "0",
         "1",
         "0",
         "1",
         "0",
         "1",
         "1",
         "0"
        ],
        [
         "3",
         "75",
         "40.0",
         "160",
         "7.8",
         "Yes",
         "1",
         "0",
         "1",
         "0",
         "0",
         "0",
         "1",
         "0",
         "1",
         "0",
         "1",
         "1",
         "0"
        ],
        [
         "5",
         "50",
         "25.0",
         "100",
         "5.7",
         "No",
         "1",
         "0",
         "0",
         "0",
         "1",
         "1",
         "0",
         "1",
         "0",
         "1",
         "0",
         "0",
         "1"
        ]
       ],
       "shape": {
        "columns": 18,
        "rows": 5
       }
      },
      "text/html": [
       "<div>\n",
       "<style scoped>\n",
       "    .dataframe tbody tr th:only-of-type {\n",
       "        vertical-align: middle;\n",
       "    }\n",
       "\n",
       "    .dataframe tbody tr th {\n",
       "        vertical-align: top;\n",
       "    }\n",
       "\n",
       "    .dataframe thead th {\n",
       "        text-align: right;\n",
       "    }\n",
       "</style>\n",
       "<table border=\"1\" class=\"dataframe\">\n",
       "  <thead>\n",
       "    <tr style=\"text-align: right;\">\n",
       "      <th></th>\n",
       "      <th>Age</th>\n",
       "      <th>BMI</th>\n",
       "      <th>FBS</th>\n",
       "      <th>HbA1c</th>\n",
       "      <th>Diagnosis</th>\n",
       "      <th>Gender_Female</th>\n",
       "      <th>Gender_Male</th>\n",
       "      <th>Blood Pressure_High</th>\n",
       "      <th>Blood Pressure_Low</th>\n",
       "      <th>Blood Pressure_Normal</th>\n",
       "      <th>Family History of Diabetes_No</th>\n",
       "      <th>Family History of Diabetes_Yes</th>\n",
       "      <th>Smoking_No</th>\n",
       "      <th>Smoking_Yes</th>\n",
       "      <th>Diet_Healthy</th>\n",
       "      <th>Diet_Poor</th>\n",
       "      <th>Exercise_No</th>\n",
       "      <th>Exercise_Regular</th>\n",
       "    </tr>\n",
       "  </thead>\n",
       "  <tbody>\n",
       "    <tr>\n",
       "      <th>0</th>\n",
       "      <td>45</td>\n",
       "      <td>25.0</td>\n",
       "      <td>100</td>\n",
       "      <td>5.7</td>\n",
       "      <td>No</td>\n",
       "      <td>0</td>\n",
       "      <td>1</td>\n",
       "      <td>0</td>\n",
       "      <td>0</td>\n",
       "      <td>1</td>\n",
       "      <td>1</td>\n",
       "      <td>0</td>\n",
       "      <td>1</td>\n",
       "      <td>0</td>\n",
       "      <td>1</td>\n",
       "      <td>0</td>\n",
       "      <td>0</td>\n",
       "      <td>1</td>\n",
       "    </tr>\n",
       "    <tr>\n",
       "      <th>1</th>\n",
       "      <td>55</td>\n",
       "      <td>30.0</td>\n",
       "      <td>120</td>\n",
       "      <td>6.4</td>\n",
       "      <td>Yes</td>\n",
       "      <td>1</td>\n",
       "      <td>0</td>\n",
       "      <td>1</td>\n",
       "      <td>0</td>\n",
       "      <td>0</td>\n",
       "      <td>0</td>\n",
       "      <td>1</td>\n",
       "      <td>0</td>\n",
       "      <td>1</td>\n",
       "      <td>0</td>\n",
       "      <td>1</td>\n",
       "      <td>1</td>\n",
       "      <td>0</td>\n",
       "    </tr>\n",
       "    <tr>\n",
       "      <th>2</th>\n",
       "      <td>65</td>\n",
       "      <td>35.0</td>\n",
       "      <td>140</td>\n",
       "      <td>7.1</td>\n",
       "      <td>Yes</td>\n",
       "      <td>0</td>\n",
       "      <td>1</td>\n",
       "      <td>1</td>\n",
       "      <td>0</td>\n",
       "      <td>0</td>\n",
       "      <td>0</td>\n",
       "      <td>1</td>\n",
       "      <td>0</td>\n",
       "      <td>1</td>\n",
       "      <td>0</td>\n",
       "      <td>1</td>\n",
       "      <td>1</td>\n",
       "      <td>0</td>\n",
       "    </tr>\n",
       "    <tr>\n",
       "      <th>3</th>\n",
       "      <td>75</td>\n",
       "      <td>40.0</td>\n",
       "      <td>160</td>\n",
       "      <td>7.8</td>\n",
       "      <td>Yes</td>\n",
       "      <td>1</td>\n",
       "      <td>0</td>\n",
       "      <td>1</td>\n",
       "      <td>0</td>\n",
       "      <td>0</td>\n",
       "      <td>0</td>\n",
       "      <td>1</td>\n",
       "      <td>0</td>\n",
       "      <td>1</td>\n",
       "      <td>0</td>\n",
       "      <td>1</td>\n",
       "      <td>1</td>\n",
       "      <td>0</td>\n",
       "    </tr>\n",
       "    <tr>\n",
       "      <th>5</th>\n",
       "      <td>50</td>\n",
       "      <td>25.0</td>\n",
       "      <td>100</td>\n",
       "      <td>5.7</td>\n",
       "      <td>No</td>\n",
       "      <td>1</td>\n",
       "      <td>0</td>\n",
       "      <td>0</td>\n",
       "      <td>0</td>\n",
       "      <td>1</td>\n",
       "      <td>1</td>\n",
       "      <td>0</td>\n",
       "      <td>1</td>\n",
       "      <td>0</td>\n",
       "      <td>1</td>\n",
       "      <td>0</td>\n",
       "      <td>0</td>\n",
       "      <td>1</td>\n",
       "    </tr>\n",
       "  </tbody>\n",
       "</table>\n",
       "</div>"
      ],
      "text/plain": [
       "   Age   BMI  FBS  HbA1c Diagnosis  Gender_Female  Gender_Male  \\\n",
       "0   45  25.0  100    5.7        No              0            1   \n",
       "1   55  30.0  120    6.4       Yes              1            0   \n",
       "2   65  35.0  140    7.1       Yes              0            1   \n",
       "3   75  40.0  160    7.8       Yes              1            0   \n",
       "5   50  25.0  100    5.7        No              1            0   \n",
       "\n",
       "   Blood Pressure_High  Blood Pressure_Low  Blood Pressure_Normal  \\\n",
       "0                    0                   0                      1   \n",
       "1                    1                   0                      0   \n",
       "2                    1                   0                      0   \n",
       "3                    1                   0                      0   \n",
       "5                    0                   0                      1   \n",
       "\n",
       "   Family History of Diabetes_No  Family History of Diabetes_Yes  Smoking_No  \\\n",
       "0                              1                               0           1   \n",
       "1                              0                               1           0   \n",
       "2                              0                               1           0   \n",
       "3                              0                               1           0   \n",
       "5                              1                               0           1   \n",
       "\n",
       "   Smoking_Yes  Diet_Healthy  Diet_Poor  Exercise_No  Exercise_Regular  \n",
       "0            0             1          0            0                 1  \n",
       "1            1             0          1            1                 0  \n",
       "2            1             0          1            1                 0  \n",
       "3            1             0          1            1                 0  \n",
       "5            0             1          0            0                 1  "
      ]
     },
     "execution_count": 16,
     "metadata": {},
     "output_type": "execute_result"
    }
   ],
   "source": [
    "# One hot encoding for categorical data \n",
    "encode_cols = [\"Gender\", \"Blood Pressure\", \"Family History of Diabetes\", \"Smoking\", \"Diet\", \"Exercise\"]\n",
    "one_encoded = pd.get_dummies(df, columns = encode_cols, dtype = int)\n",
    "one_encoded.head()"
   ]
  },
  {
   "cell_type": "code",
   "execution_count": 17,
   "id": "aa42d1ec",
   "metadata": {},
   "outputs": [
    {
     "data": {
      "application/vnd.microsoft.datawrangler.viewer.v0+json": {
       "columns": [
        {
         "name": "index",
         "rawType": "int64",
         "type": "integer"
        },
        {
         "name": "Age",
         "rawType": "int64",
         "type": "integer"
        },
        {
         "name": "BMI",
         "rawType": "float64",
         "type": "float"
        },
        {
         "name": "FBS",
         "rawType": "int64",
         "type": "integer"
        },
        {
         "name": "HbA1c",
         "rawType": "float64",
         "type": "float"
        },
        {
         "name": "Diagnosis",
         "rawType": "int64",
         "type": "integer"
        },
        {
         "name": "Gender_Female",
         "rawType": "int64",
         "type": "integer"
        },
        {
         "name": "Gender_Male",
         "rawType": "int64",
         "type": "integer"
        },
        {
         "name": "Blood Pressure_High",
         "rawType": "int64",
         "type": "integer"
        },
        {
         "name": "Blood Pressure_Low",
         "rawType": "int64",
         "type": "integer"
        },
        {
         "name": "Blood Pressure_Normal",
         "rawType": "int64",
         "type": "integer"
        },
        {
         "name": "Family History of Diabetes_No",
         "rawType": "int64",
         "type": "integer"
        },
        {
         "name": "Family History of Diabetes_Yes",
         "rawType": "int64",
         "type": "integer"
        },
        {
         "name": "Smoking_No",
         "rawType": "int64",
         "type": "integer"
        },
        {
         "name": "Smoking_Yes",
         "rawType": "int64",
         "type": "integer"
        },
        {
         "name": "Diet_Healthy",
         "rawType": "int64",
         "type": "integer"
        },
        {
         "name": "Diet_Poor",
         "rawType": "int64",
         "type": "integer"
        },
        {
         "name": "Exercise_No",
         "rawType": "int64",
         "type": "integer"
        },
        {
         "name": "Exercise_Regular",
         "rawType": "int64",
         "type": "integer"
        }
       ],
       "ref": "b2ba084b-2d48-46f9-939e-5ebd2f63ae30",
       "rows": [
        [
         "0",
         "45",
         "25.0",
         "100",
         "5.7",
         "0",
         "0",
         "1",
         "0",
         "0",
         "1",
         "1",
         "0",
         "1",
         "0",
         "1",
         "0",
         "0",
         "1"
        ],
        [
         "1",
         "55",
         "30.0",
         "120",
         "6.4",
         "1",
         "1",
         "0",
         "1",
         "0",
         "0",
         "0",
         "1",
         "0",
         "1",
         "0",
         "1",
         "1",
         "0"
        ],
        [
         "2",
         "65",
         "35.0",
         "140",
         "7.1",
         "1",
         "0",
         "1",
         "1",
         "0",
         "0",
         "0",
         "1",
         "0",
         "1",
         "0",
         "1",
         "1",
         "0"
        ],
        [
         "3",
         "75",
         "40.0",
         "160",
         "7.8",
         "1",
         "1",
         "0",
         "1",
         "0",
         "0",
         "0",
         "1",
         "0",
         "1",
         "0",
         "1",
         "1",
         "0"
        ],
        [
         "5",
         "50",
         "25.0",
         "100",
         "5.7",
         "0",
         "1",
         "0",
         "0",
         "0",
         "1",
         "1",
         "0",
         "1",
         "0",
         "1",
         "0",
         "0",
         "1"
        ]
       ],
       "shape": {
        "columns": 18,
        "rows": 5
       }
      },
      "text/html": [
       "<div>\n",
       "<style scoped>\n",
       "    .dataframe tbody tr th:only-of-type {\n",
       "        vertical-align: middle;\n",
       "    }\n",
       "\n",
       "    .dataframe tbody tr th {\n",
       "        vertical-align: top;\n",
       "    }\n",
       "\n",
       "    .dataframe thead th {\n",
       "        text-align: right;\n",
       "    }\n",
       "</style>\n",
       "<table border=\"1\" class=\"dataframe\">\n",
       "  <thead>\n",
       "    <tr style=\"text-align: right;\">\n",
       "      <th></th>\n",
       "      <th>Age</th>\n",
       "      <th>BMI</th>\n",
       "      <th>FBS</th>\n",
       "      <th>HbA1c</th>\n",
       "      <th>Diagnosis</th>\n",
       "      <th>Gender_Female</th>\n",
       "      <th>Gender_Male</th>\n",
       "      <th>Blood Pressure_High</th>\n",
       "      <th>Blood Pressure_Low</th>\n",
       "      <th>Blood Pressure_Normal</th>\n",
       "      <th>Family History of Diabetes_No</th>\n",
       "      <th>Family History of Diabetes_Yes</th>\n",
       "      <th>Smoking_No</th>\n",
       "      <th>Smoking_Yes</th>\n",
       "      <th>Diet_Healthy</th>\n",
       "      <th>Diet_Poor</th>\n",
       "      <th>Exercise_No</th>\n",
       "      <th>Exercise_Regular</th>\n",
       "    </tr>\n",
       "  </thead>\n",
       "  <tbody>\n",
       "    <tr>\n",
       "      <th>0</th>\n",
       "      <td>45</td>\n",
       "      <td>25.0</td>\n",
       "      <td>100</td>\n",
       "      <td>5.7</td>\n",
       "      <td>0</td>\n",
       "      <td>0</td>\n",
       "      <td>1</td>\n",
       "      <td>0</td>\n",
       "      <td>0</td>\n",
       "      <td>1</td>\n",
       "      <td>1</td>\n",
       "      <td>0</td>\n",
       "      <td>1</td>\n",
       "      <td>0</td>\n",
       "      <td>1</td>\n",
       "      <td>0</td>\n",
       "      <td>0</td>\n",
       "      <td>1</td>\n",
       "    </tr>\n",
       "    <tr>\n",
       "      <th>1</th>\n",
       "      <td>55</td>\n",
       "      <td>30.0</td>\n",
       "      <td>120</td>\n",
       "      <td>6.4</td>\n",
       "      <td>1</td>\n",
       "      <td>1</td>\n",
       "      <td>0</td>\n",
       "      <td>1</td>\n",
       "      <td>0</td>\n",
       "      <td>0</td>\n",
       "      <td>0</td>\n",
       "      <td>1</td>\n",
       "      <td>0</td>\n",
       "      <td>1</td>\n",
       "      <td>0</td>\n",
       "      <td>1</td>\n",
       "      <td>1</td>\n",
       "      <td>0</td>\n",
       "    </tr>\n",
       "    <tr>\n",
       "      <th>2</th>\n",
       "      <td>65</td>\n",
       "      <td>35.0</td>\n",
       "      <td>140</td>\n",
       "      <td>7.1</td>\n",
       "      <td>1</td>\n",
       "      <td>0</td>\n",
       "      <td>1</td>\n",
       "      <td>1</td>\n",
       "      <td>0</td>\n",
       "      <td>0</td>\n",
       "      <td>0</td>\n",
       "      <td>1</td>\n",
       "      <td>0</td>\n",
       "      <td>1</td>\n",
       "      <td>0</td>\n",
       "      <td>1</td>\n",
       "      <td>1</td>\n",
       "      <td>0</td>\n",
       "    </tr>\n",
       "    <tr>\n",
       "      <th>3</th>\n",
       "      <td>75</td>\n",
       "      <td>40.0</td>\n",
       "      <td>160</td>\n",
       "      <td>7.8</td>\n",
       "      <td>1</td>\n",
       "      <td>1</td>\n",
       "      <td>0</td>\n",
       "      <td>1</td>\n",
       "      <td>0</td>\n",
       "      <td>0</td>\n",
       "      <td>0</td>\n",
       "      <td>1</td>\n",
       "      <td>0</td>\n",
       "      <td>1</td>\n",
       "      <td>0</td>\n",
       "      <td>1</td>\n",
       "      <td>1</td>\n",
       "      <td>0</td>\n",
       "    </tr>\n",
       "    <tr>\n",
       "      <th>5</th>\n",
       "      <td>50</td>\n",
       "      <td>25.0</td>\n",
       "      <td>100</td>\n",
       "      <td>5.7</td>\n",
       "      <td>0</td>\n",
       "      <td>1</td>\n",
       "      <td>0</td>\n",
       "      <td>0</td>\n",
       "      <td>0</td>\n",
       "      <td>1</td>\n",
       "      <td>1</td>\n",
       "      <td>0</td>\n",
       "      <td>1</td>\n",
       "      <td>0</td>\n",
       "      <td>1</td>\n",
       "      <td>0</td>\n",
       "      <td>0</td>\n",
       "      <td>1</td>\n",
       "    </tr>\n",
       "  </tbody>\n",
       "</table>\n",
       "</div>"
      ],
      "text/plain": [
       "   Age   BMI  FBS  HbA1c  Diagnosis  Gender_Female  Gender_Male  \\\n",
       "0   45  25.0  100    5.7          0              0            1   \n",
       "1   55  30.0  120    6.4          1              1            0   \n",
       "2   65  35.0  140    7.1          1              0            1   \n",
       "3   75  40.0  160    7.8          1              1            0   \n",
       "5   50  25.0  100    5.7          0              1            0   \n",
       "\n",
       "   Blood Pressure_High  Blood Pressure_Low  Blood Pressure_Normal  \\\n",
       "0                    0                   0                      1   \n",
       "1                    1                   0                      0   \n",
       "2                    1                   0                      0   \n",
       "3                    1                   0                      0   \n",
       "5                    0                   0                      1   \n",
       "\n",
       "   Family History of Diabetes_No  Family History of Diabetes_Yes  Smoking_No  \\\n",
       "0                              1                               0           1   \n",
       "1                              0                               1           0   \n",
       "2                              0                               1           0   \n",
       "3                              0                               1           0   \n",
       "5                              1                               0           1   \n",
       "\n",
       "   Smoking_Yes  Diet_Healthy  Diet_Poor  Exercise_No  Exercise_Regular  \n",
       "0            0             1          0            0                 1  \n",
       "1            1             0          1            1                 0  \n",
       "2            1             0          1            1                 0  \n",
       "3            1             0          1            1                 0  \n",
       "5            0             1          0            0                 1  "
      ]
     },
     "execution_count": 17,
     "metadata": {},
     "output_type": "execute_result"
    }
   ],
   "source": [
    "# Binary encoding for target variable\n",
    "fully_encoded = one_encoded.copy()\n",
    "fully_encoded[\"Diagnosis\"] = one_encoded[\"Diagnosis\"].map({\"No\": 0, \"Yes\": 1})\n",
    "fully_encoded.head()"
   ]
  },
  {
   "cell_type": "markdown",
   "id": "1e4f01ae",
   "metadata": {},
   "source": [
    "Dataset is ready for use\n",
    "\n",
    "Chosen models for evaluation are Logistic Regression, Random Forest "
   ]
  },
  {
   "cell_type": "code",
   "execution_count": 18,
   "id": "81e6a48e",
   "metadata": {},
   "outputs": [
    {
     "name": "stdout",
     "output_type": "stream",
     "text": [
      "Categorical selected features:\n",
      " Index(['Family History of Diabetes_Yes', 'Smoking_No', 'Diet_Healthy',\n",
      "       'Exercise_No', 'Exercise_Regular'],\n",
      "      dtype='object')\n",
      "\n",
      "Numerical selected features:\n",
      " Index(['FBS', 'HbA1c'], dtype='object')\n"
     ]
    }
   ],
   "source": [
    "# Feature Selection\n",
    "from sklearn.feature_selection import SelectKBest, chi2, f_classif\n",
    "\n",
    "# Top 5 Categorical Features\n",
    "cat_selector = SelectKBest(score_func = chi2, k = 5)\n",
    "x_cat = fully_encoded.drop([\"Diagnosis\", \"BMI\", \"Age\", \"FBS\", \"HbA1c\"], axis = 1)\n",
    "y = fully_encoded[\"Diagnosis\"]\n",
    "\n",
    "x_selected = cat_selector.fit_transform(x_cat, y) #train selector on datset\n",
    "cat_selected = x_cat.columns[cat_selector.get_support()]\n",
    "print (f\"Categorical selected features:\\n\", cat_selected)\n",
    "\n",
    "#Top 2 Numeric Features\n",
    "num_selector = SelectKBest(score_func = f_classif, k = 2)\n",
    "x_num = fully_encoded.drop([\"Diagnosis\", \"Gender_Female\", \"Gender_Male\", \"Family History of Diabetes_No\", \"Family History of Diabetes_Yes\", \"Smoking_No\", \"Smoking_Yes\", \"Diet_Healthy\", \"Diet_Poor\", \"Exercise_No\", \"Exercise_Regular\"], axis = 1)\n",
    "\n",
    "xnum_selected = num_selector.fit_transform(x_num, y) \n",
    "num_selected = x_num.columns[num_selector.get_support()]\n",
    "print (f\"\\nNumerical selected features:\\n\", num_selected)"
   ]
  },
  {
   "cell_type": "code",
   "execution_count": 19,
   "id": "a7b58a44",
   "metadata": {},
   "outputs": [
    {
     "name": "stdout",
     "output_type": "stream",
     "text": [
      "Combined Selected Features:\n",
      " ['Family History of Diabetes_Yes', 'Smoking_No', 'Diet_Healthy', 'Exercise_No', 'Exercise_Regular', 'FBS', 'HbA1c']\n"
     ]
    }
   ],
   "source": [
    "# Combine selected features\n",
    "import pandas as pd\n",
    "all_selected = pd.concat([pd.DataFrame(x_cat, columns = cat_selected),\n",
    "                        pd.DataFrame(x_num, columns = num_selected)], axis=1)\n",
    "print(\"Combined Selected Features:\\n\", all_selected.columns.tolist())\n",
    "\n",
    "# Train-test split on selected features \n",
    "from sklearn.model_selection import train_test_split\n",
    "\n",
    "x_test, x_train, y_test, y_train = train_test_split(all_selected, y, test_size = 0.3, random_state = 42)\n"
   ]
  },
  {
   "cell_type": "code",
   "execution_count": 20,
   "id": "b8d8d554",
   "metadata": {},
   "outputs": [],
   "source": [
    "# Linear Regression on selected features \n",
    "from sklearn.linear_model import LogisticRegression\n",
    "\n",
    "log_reg = LogisticRegression(class_weight = \"balanced\", max_iter = 1000)\n",
    "log_reg.fit(x_train, y_train)\n",
    "diagpred_logreg = log_reg.predict(x_test)"
   ]
  },
  {
   "cell_type": "code",
   "execution_count": 21,
   "id": "606df23c",
   "metadata": {},
   "outputs": [],
   "source": [
    "# Apply Random Forest to selected features\n",
    "from sklearn.ensemble import RandomForestClassifier\n",
    "\n",
    "random_forest = RandomForestClassifier(n_estimators = 200, max_depth = 10, class_weight = \"balanced\", random_state = 42)\n",
    "random_forest.fit(x_train, y_train)\n",
    "diagpred_ranfor = random_forest.predict(x_test)"
   ]
  },
  {
   "cell_type": "code",
   "execution_count": 22,
   "id": "f00af7d1",
   "metadata": {},
   "outputs": [
    {
     "data": {
      "image/png": "[encoded data removed]",
      "text/plain": [
       "<Figure size 640x480 with 2 Axes>"
      ]
     },
     "metadata": {},
     "output_type": "display_data"
    },
    {
     "data": {
      "image/png": "[encoded data removed]",
      "text/plain": [
       "<Figure size 640x480 with 1 Axes>"
      ]
     },
     "metadata": {},
     "output_type": "display_data"
    },
    {
     "name": "stdout",
     "output_type": "stream",
     "text": [
      "Logistic Regression Performance:\n",
      "\n",
      "              precision    recall  f1-score   support\n",
      "\n",
      "           0       0.96      0.82      0.88        61\n",
      "           1       0.63      0.90      0.75        21\n",
      "\n",
      "    accuracy                           0.84        82\n",
      "   macro avg       0.80      0.86      0.82        82\n",
      "weighted avg       0.88      0.84      0.85        82\n",
      "\n"
     ]
    }
   ],
   "source": [
    "# Evaluate Logistic Regression performance\n",
    "# Plot confusion matrix\n",
    "import seaborn as sns\n",
    "from sklearn.metrics import confusion_matrix, roc_auc_score, roc_curve, classification_report\n",
    "\n",
    "cm_logreg = confusion_matrix(y_test, diagpred_logreg)\n",
    "plt.figure()\n",
    "sns.heatmap(cm_logreg, annot = True, fmt='d')\n",
    "plt.xlabel('Predicted')\n",
    "plt.ylabel('Actual')\n",
    "plt.title('Confusion Matrix - Logistic Regression')\n",
    "plt.show()\n",
    "\n",
    "# Plot ROC curve\n",
    "y_proba_logreg = log_reg.predict_proba(x_test)[:, 1]\n",
    "fpr, tpr, _ = roc_curve(y_test, y_proba_logreg)\n",
    "plt.figure()\n",
    "plt.plot(fpr, tpr, label = f'Logistic Regression (AUC = {roc_auc_score(y_test, y_proba_logreg):.2f})')\n",
    "plt.xlabel('False Positive Rate')\n",
    "plt.ylabel('True Positive Rate')\n",
    "plt.title('ROC Curve - Logistic Regression')\n",
    "plt.legend()\n",
    "plt.show()\n",
    "\n",
    "# Classification Report\n",
    "print(\"Logistic Regression Performance:\\n\")\n",
    "print(classification_report(y_test, diagpred_logreg))\n"
   ]
  },
  {
   "cell_type": "code",
   "execution_count": 23,
   "id": "9f855314",
   "metadata": {},
   "outputs": [
    {
     "data": {
      "image/png": "[encoded data removed]",
      "text/plain": [
       "<Figure size 640x480 with 2 Axes>"
      ]
     },
     "metadata": {},
     "output_type": "display_data"
    },
    {
     "data": {
      "image/png": "[encoded data removed]",
      "text/plain": [
       "<Figure size 640x480 with 1 Axes>"
      ]
     },
     "metadata": {},
     "output_type": "display_data"
    },
    {
     "name": "stdout",
     "output_type": "stream",
     "text": [
      "Random Forest Performance:\n",
      "\n",
      "              precision    recall  f1-score   support\n",
      "\n",
      "           0       0.95      1.00      0.98        61\n",
      "           1       1.00      0.86      0.92        21\n",
      "\n",
      "    accuracy                           0.96        82\n",
      "   macro avg       0.98      0.93      0.95        82\n",
      "weighted avg       0.97      0.96      0.96        82\n",
      "\n"
     ]
    }
   ],
   "source": [
    "# Evaluate Random Forest performance\n",
    "# Plot confusion matrices\n",
    "cm_ranfor = confusion_matrix(y_test, diagpred_ranfor)\n",
    "plt.figure()\n",
    "sns.heatmap(cm_ranfor, annot = True, fmt = 'd')\n",
    "plt.xlabel('Predicted')\n",
    "plt.ylabel('Actual')\n",
    "plt.title('Confusion Matrix - Random Forest')\n",
    "plt.show()\n",
    "\n",
    "# Plot ROC curve\n",
    "y_proba_ranfor = random_forest.predict_proba(x_test)[:, 1]\n",
    "fpr, tpr, _ = roc_curve(y_test, y_proba_ranfor)\n",
    "plt.figure()\n",
    "plt.plot(fpr, tpr, label = f'Random Forest (AUC = {roc_auc_score(y_test, y_proba_ranfor):.2f})')\n",
    "plt.xlabel('False Positive Rate')\n",
    "plt.ylabel('True Positive Rate')\n",
    "plt.title('ROC Curve - Random Forest ')\n",
    "plt.legend()\n",
    "plt.show()\n",
    "\n",
    "# Classification Report\n",
    "print(\"Random Forest Performance:\\n\")\n",
    "print(classification_report(y_test, diagpred_ranfor))\n",
    "\n"
   ]
  },
  {
   "cell_type": "code",
   "execution_count": 25,
   "id": "f94ded0e",
   "metadata": {},
   "outputs": [
    {
     "name": "stdout",
     "output_type": "stream",
     "text": [
      "=== Logistic Regression ===\n",
      "Accuracy : 0.8414634146341463\n",
      "Precision: 0.6333333333333333\n",
      "Recall   : 0.9047619047619048\n",
      "F1 Score : 0.7450980392156863\n",
      "ROC AUC  : 0.9683840749414521\n",
      "========================================\n",
      "=== Random Forest ===\n",
      "Accuracy : 0.9634146341463414\n",
      "Precision: 1.0\n",
      "Recall   : 0.8571428571428571\n",
      "F1 Score : 0.9230769230769231\n",
      "ROC AUC  : 0.977751756440281\n",
      "========================================\n"
     ]
    }
   ],
   "source": [
    "# Comprehensive Model Eval \n",
    "from sklearn.metrics import accuracy_score, precision_score, recall_score, f1_score, roc_auc_score\n",
    "\n",
    "def evaluate_model(name, y_true, y_pred, y_proba):\n",
    "    print(f\"=== {name} ===\")\n",
    "    print(\"Accuracy :\", accuracy_score(y_true, y_pred))\n",
    "    print(\"Precision:\", precision_score(y_true, y_pred))\n",
    "    print(\"Recall   :\", recall_score(y_true, y_pred))\n",
    "    print(\"F1 Score :\", f1_score(y_true, y_pred))\n",
    "    print(\"ROC AUC  :\", roc_auc_score(y_true, y_proba))\n",
    "    print(\"=\"*40)\n",
    "\n",
    "evaluate_model(\"Logistic Regression\", y_test, diagpred_logreg, y_proba_logreg)\n",
    "evaluate_model(\"Random Forest\", y_test, diagpred_ranfor, y_proba_ranfor)\n"
   ]
  },
  {
   "cell_type": "markdown",
   "id": "710297e9",
   "metadata": {},
   "source": [
    "#### Conclusions for each model\n",
    "\n",
    "General notes: The dataset is balanced so we favour Accuracy over F1 score and, as this is a medical case, False Negatives are more expensive so we favour Recall over Precision. \n",
    "\n",
    "Both Logistic Regression and Random Forest performed strongly on the dataset, but with different strengths:\n",
    "\n",
    "Logistic Regression achieved high recall (0.90), meaning it was very effective at detecting positive diabetes cases.  However, its precision (0.63) was lower, indicating more false positives.\n",
    "\n",
    "Random Forest showed higher overall accuracy (96%) and a much better precision (1.0), meaning it made no false positive predictions in this test. However, its recall (0.86) was slightly lower than Logistic Regression's, suggesting that it missed a few positive cases.\n",
    "\n",
    "Both models had excellent ROC AUC scores, confirming strong discriminative ability. Random Forest had a slight edge (0.978 vs. 0.968), indicating it may generalize better overall.\n",
    "\n",
    "In conclusion, even at the risk of false alarms, Logistic Regression is preferable for medical cases like this where false negatives are more expensive than false positives."
   ]
  }
 ],
 "metadata": {
  "kernelspec": {
   "display_name": "Python 3",
   "language": "python",
   "name": "python3"
  },
  "language_info": {
   "codemirror_mode": {
    "name": "ipython",
    "version": 3
   },
   "file_extension": ".py",
   "mimetype": "text/x-python",
   "name": "python",
   "nbconvert_exporter": "python",
   "pygments_lexer": "ipython3",
   "version": "3.11.9"
  }
 },
 "nbformat": 4,
 "nbformat_minor": 5
}

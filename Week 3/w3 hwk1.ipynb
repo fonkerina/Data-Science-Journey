{
 "cells": [
  {
   "cell_type": "markdown",
   "id": "c4f1e266",
   "metadata": {},
   "source": [
    "#### Part 1 of week 3's homework task\n",
    "The aim is to plot **confusion matrices** and **ROC Curves** for various models, as well as learning more about evaluation metrics so that I am able to compare model performances."
   ]
  },
  {
   "cell_type": "code",
   "execution_count": null,
   "id": "81e07d96",
   "metadata": {},
   "outputs": [
    {
     "name": "stdout",
     "output_type": "stream",
     "text": [
      "<class 'pandas.core.frame.DataFrame'>\n",
      "RangeIndex: 128 entries, 0 to 127\n",
      "Data columns (total 11 columns):\n",
      " #   Column                      Non-Null Count  Dtype  \n",
      "---  ------                      --------------  -----  \n",
      " 0   Age                         128 non-null    int64  \n",
      " 1   Gender                      128 non-null    object \n",
      " 2   BMI                         125 non-null    float64\n",
      " 3   Blood Pressure              128 non-null    object \n",
      " 4   FBS                         128 non-null    int64  \n",
      " 5   HbA1c                       128 non-null    float64\n",
      " 6   Family History of Diabetes  126 non-null    object \n",
      " 7   Smoking                     126 non-null    object \n",
      " 8   Diet                        126 non-null    object \n",
      " 9   Exercise                    127 non-null    object \n",
      " 10  Diagnosis                   128 non-null    object \n",
      "dtypes: float64(2), int64(2), object(7)\n",
      "memory usage: 11.1+ KB\n"
     ]
    }
   ],
   "source": [
    "import matplotlib.pyplot as plt \n",
    "import pandas as pd \n",
    "import numpy as np \n",
    "\n",
    "# Initialise dataset\n",
    "df = pd.read_csv(\"Diabetes-Classification.csv\")\n",
    "df.info()\n"
   ]
  }
 ],
 "metadata": {
  "kernelspec": {
   "display_name": "Python 3",
   "language": "python",
   "name": "python3"
  },
  "language_info": {
   "codemirror_mode": {
    "name": "ipython",
    "version": 3
   },
   "file_extension": ".py",
   "mimetype": "text/x-python",
   "name": "python",
   "nbconvert_exporter": "python",
   "pygments_lexer": "ipython3",
   "version": "3.11.9"
  }
 },
 "nbformat": 4,
 "nbformat_minor": 5
}

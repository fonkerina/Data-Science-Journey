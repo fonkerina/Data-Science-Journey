{
 "cells": [
  {
   "cell_type": "code",
   "execution_count": 1,
   "id": "69d1078e",
   "metadata": {},
   "outputs": [
    {
     "name": "stdout",
     "output_type": "stream",
     "text": [
      "<class 'pandas.core.frame.DataFrame'>\n",
      "RangeIndex: 128 entries, 0 to 127\n",
      "Data columns (total 11 columns):\n",
      " #   Column                      Non-Null Count  Dtype  \n",
      "---  ------                      --------------  -----  \n",
      " 0   Age                         128 non-null    int64  \n",
      " 1   Gender                      128 non-null    object \n",
      " 2   BMI                         125 non-null    float64\n",
      " 3   Blood Pressure              128 non-null    object \n",
      " 4   FBS                         128 non-null    int64  \n",
      " 5   HbA1c                       128 non-null    float64\n",
      " 6   Family History of Diabetes  126 non-null    object \n",
      " 7   Smoking                     126 non-null    object \n",
      " 8   Diet                        126 non-null    object \n",
      " 9   Exercise                    127 non-null    object \n",
      " 10  Diagnosis                   128 non-null    object \n",
      "dtypes: float64(2), int64(2), object(7)\n",
      "memory usage: 11.1+ KB\n"
     ]
    }
   ],
   "source": [
    "import pandas as pd\n",
    "import numpy as np\n",
    "import matplotlib.pyplot as plt\n",
    "\n",
    "data = pd.read_csv('Diabetes-Classification.csv')\n",
    "data.head()\n",
    "data.info()\n"
   ]
  },
  {
   "cell_type": "code",
   "execution_count": 2,
   "id": "8c19ebed",
   "metadata": {},
   "outputs": [
    {
     "data": {
      "application/vnd.microsoft.datawrangler.viewer.v0+json": {
       "columns": [
        {
         "name": "index",
         "rawType": "object",
         "type": "string"
        },
        {
         "name": "0",
         "rawType": "int64",
         "type": "integer"
        }
       ],
       "ref": "bcae7af3-7128-4f3a-91d7-4427f2370bdc",
       "rows": [
        [
         "Age",
         "0"
        ],
        [
         "Gender",
         "0"
        ],
        [
         "BMI",
         "0"
        ],
        [
         "Blood Pressure",
         "0"
        ],
        [
         "FBS",
         "0"
        ],
        [
         "HbA1c",
         "0"
        ],
        [
         "Family History of Diabetes",
         "0"
        ],
        [
         "Smoking",
         "0"
        ],
        [
         "Diet",
         "0"
        ],
        [
         "Exercise",
         "0"
        ],
        [
         "Diagnosis",
         "0"
        ]
       ],
       "shape": {
        "columns": 1,
        "rows": 11
       }
      },
      "text/plain": [
       "Age                           0\n",
       "Gender                        0\n",
       "BMI                           0\n",
       "Blood Pressure                0\n",
       "FBS                           0\n",
       "HbA1c                         0\n",
       "Family History of Diabetes    0\n",
       "Smoking                       0\n",
       "Diet                          0\n",
       "Exercise                      0\n",
       "Diagnosis                     0\n",
       "dtype: int64"
      ]
     },
     "execution_count": 2,
     "metadata": {},
     "output_type": "execute_result"
    }
   ],
   "source": [
    "data = data.dropna()\n",
    "data.isnull().sum()"
   ]
  },
  {
   "cell_type": "code",
   "execution_count": 3,
   "id": "a4c81178",
   "metadata": {},
   "outputs": [
    {
     "data": {
      "application/vnd.microsoft.datawrangler.viewer.v0+json": {
       "columns": [
        {
         "name": "index",
         "rawType": "int64",
         "type": "integer"
        },
        {
         "name": "Age",
         "rawType": "int64",
         "type": "integer"
        },
        {
         "name": "Gender",
         "rawType": "object",
         "type": "string"
        },
        {
         "name": "BMI",
         "rawType": "float64",
         "type": "float"
        },
        {
         "name": "Blood Pressure",
         "rawType": "object",
         "type": "string"
        },
        {
         "name": "FBS",
         "rawType": "int64",
         "type": "integer"
        },
        {
         "name": "HbA1c",
         "rawType": "float64",
         "type": "float"
        },
        {
         "name": "Family History of Diabetes",
         "rawType": "object",
         "type": "string"
        },
        {
         "name": "Smoking",
         "rawType": "object",
         "type": "string"
        },
        {
         "name": "Diet",
         "rawType": "object",
         "type": "string"
        },
        {
         "name": "Exercise",
         "rawType": "object",
         "type": "string"
        },
        {
         "name": "Diagnosis",
         "rawType": "object",
         "type": "string"
        }
       ],
       "ref": "b3d0b9e9-80d3-4802-935b-bc3b23dd4b3b",
       "rows": [
        [
         "0",
         "45",
         "Male",
         "25.0",
         "Normal",
         "100",
         "5.7",
         "No",
         "No",
         "Healthy",
         "Regular",
         "No"
        ],
        [
         "1",
         "55",
         "Female",
         "30.0",
         "High",
         "120",
         "6.4",
         "Yes",
         "Yes",
         "Poor",
         "No",
         "Yes"
        ],
        [
         "2",
         "65",
         "Male",
         "35.0",
         "High",
         "140",
         "7.1",
         "Yes",
         "Yes",
         "Poor",
         "No",
         "Yes"
        ],
        [
         "3",
         "75",
         "Female",
         "40.0",
         "High",
         "160",
         "7.8",
         "Yes",
         "Yes",
         "Poor",
         "No",
         "Yes"
        ],
        [
         "5",
         "50",
         "Female",
         "25.0",
         "Normal",
         "100",
         "5.7",
         "No",
         "No",
         "Healthy",
         "Regular",
         "No"
        ]
       ],
       "shape": {
        "columns": 11,
        "rows": 5
       }
      },
      "text/html": [
       "<div>\n",
       "<style scoped>\n",
       "    .dataframe tbody tr th:only-of-type {\n",
       "        vertical-align: middle;\n",
       "    }\n",
       "\n",
       "    .dataframe tbody tr th {\n",
       "        vertical-align: top;\n",
       "    }\n",
       "\n",
       "    .dataframe thead th {\n",
       "        text-align: right;\n",
       "    }\n",
       "</style>\n",
       "<table border=\"1\" class=\"dataframe\">\n",
       "  <thead>\n",
       "    <tr style=\"text-align: right;\">\n",
       "      <th></th>\n",
       "      <th>Age</th>\n",
       "      <th>Gender</th>\n",
       "      <th>BMI</th>\n",
       "      <th>Blood Pressure</th>\n",
       "      <th>FBS</th>\n",
       "      <th>HbA1c</th>\n",
       "      <th>Family History of Diabetes</th>\n",
       "      <th>Smoking</th>\n",
       "      <th>Diet</th>\n",
       "      <th>Exercise</th>\n",
       "      <th>Diagnosis</th>\n",
       "    </tr>\n",
       "  </thead>\n",
       "  <tbody>\n",
       "    <tr>\n",
       "      <th>0</th>\n",
       "      <td>45</td>\n",
       "      <td>Male</td>\n",
       "      <td>25.0</td>\n",
       "      <td>Normal</td>\n",
       "      <td>100</td>\n",
       "      <td>5.7</td>\n",
       "      <td>No</td>\n",
       "      <td>No</td>\n",
       "      <td>Healthy</td>\n",
       "      <td>Regular</td>\n",
       "      <td>No</td>\n",
       "    </tr>\n",
       "    <tr>\n",
       "      <th>1</th>\n",
       "      <td>55</td>\n",
       "      <td>Female</td>\n",
       "      <td>30.0</td>\n",
       "      <td>High</td>\n",
       "      <td>120</td>\n",
       "      <td>6.4</td>\n",
       "      <td>Yes</td>\n",
       "      <td>Yes</td>\n",
       "      <td>Poor</td>\n",
       "      <td>No</td>\n",
       "      <td>Yes</td>\n",
       "    </tr>\n",
       "    <tr>\n",
       "      <th>2</th>\n",
       "      <td>65</td>\n",
       "      <td>Male</td>\n",
       "      <td>35.0</td>\n",
       "      <td>High</td>\n",
       "      <td>140</td>\n",
       "      <td>7.1</td>\n",
       "      <td>Yes</td>\n",
       "      <td>Yes</td>\n",
       "      <td>Poor</td>\n",
       "      <td>No</td>\n",
       "      <td>Yes</td>\n",
       "    </tr>\n",
       "    <tr>\n",
       "      <th>3</th>\n",
       "      <td>75</td>\n",
       "      <td>Female</td>\n",
       "      <td>40.0</td>\n",
       "      <td>High</td>\n",
       "      <td>160</td>\n",
       "      <td>7.8</td>\n",
       "      <td>Yes</td>\n",
       "      <td>Yes</td>\n",
       "      <td>Poor</td>\n",
       "      <td>No</td>\n",
       "      <td>Yes</td>\n",
       "    </tr>\n",
       "    <tr>\n",
       "      <th>5</th>\n",
       "      <td>50</td>\n",
       "      <td>Female</td>\n",
       "      <td>25.0</td>\n",
       "      <td>Normal</td>\n",
       "      <td>100</td>\n",
       "      <td>5.7</td>\n",
       "      <td>No</td>\n",
       "      <td>No</td>\n",
       "      <td>Healthy</td>\n",
       "      <td>Regular</td>\n",
       "      <td>No</td>\n",
       "    </tr>\n",
       "  </tbody>\n",
       "</table>\n",
       "</div>"
      ],
      "text/plain": [
       "   Age  Gender   BMI Blood Pressure  FBS  HbA1c Family History of Diabetes  \\\n",
       "0   45    Male  25.0         Normal  100    5.7                         No   \n",
       "1   55  Female  30.0           High  120    6.4                        Yes   \n",
       "2   65    Male  35.0           High  140    7.1                        Yes   \n",
       "3   75  Female  40.0           High  160    7.8                        Yes   \n",
       "5   50  Female  25.0         Normal  100    5.7                         No   \n",
       "\n",
       "  Smoking     Diet Exercise Diagnosis  \n",
       "0      No  Healthy  Regular        No  \n",
       "1     Yes     Poor       No       Yes  \n",
       "2     Yes     Poor       No       Yes  \n",
       "3     Yes     Poor       No       Yes  \n",
       "5      No  Healthy  Regular        No  "
      ]
     },
     "execution_count": 3,
     "metadata": {},
     "output_type": "execute_result"
    }
   ],
   "source": [
    "data.head()"
   ]
  },
  {
   "cell_type": "code",
   "execution_count": 4,
   "id": "5bf28f51",
   "metadata": {},
   "outputs": [
    {
     "data": {
      "application/vnd.microsoft.datawrangler.viewer.v0+json": {
       "columns": [
        {
         "name": "index",
         "rawType": "int64",
         "type": "integer"
        },
        {
         "name": "Age",
         "rawType": "int64",
         "type": "integer"
        },
        {
         "name": "Gender",
         "rawType": "int64",
         "type": "integer"
        },
        {
         "name": "BMI",
         "rawType": "float64",
         "type": "float"
        },
        {
         "name": "Blood Pressure",
         "rawType": "int64",
         "type": "integer"
        },
        {
         "name": "FBS",
         "rawType": "int64",
         "type": "integer"
        },
        {
         "name": "HbA1c",
         "rawType": "float64",
         "type": "float"
        },
        {
         "name": "Family History of Diabetes",
         "rawType": "int64",
         "type": "integer"
        },
        {
         "name": "Smoking",
         "rawType": "int64",
         "type": "integer"
        },
        {
         "name": "Diet",
         "rawType": "int64",
         "type": "integer"
        },
        {
         "name": "Exercise",
         "rawType": "int64",
         "type": "integer"
        },
        {
         "name": "Diagnosis",
         "rawType": "int64",
         "type": "integer"
        }
       ],
       "ref": "c6d0636a-d132-4802-b749-60cec50bdc98",
       "rows": [
        [
         "0",
         "45",
         "1",
         "25.0",
         "2",
         "100",
         "5.7",
         "0",
         "0",
         "0",
         "1",
         "0"
        ],
        [
         "1",
         "55",
         "0",
         "30.0",
         "0",
         "120",
         "6.4",
         "1",
         "1",
         "1",
         "0",
         "1"
        ],
        [
         "2",
         "65",
         "1",
         "35.0",
         "0",
         "140",
         "7.1",
         "1",
         "1",
         "1",
         "0",
         "1"
        ],
        [
         "3",
         "75",
         "0",
         "40.0",
         "0",
         "160",
         "7.8",
         "1",
         "1",
         "1",
         "0",
         "1"
        ],
        [
         "5",
         "50",
         "0",
         "25.0",
         "2",
         "100",
         "5.7",
         "0",
         "0",
         "0",
         "1",
         "0"
        ]
       ],
       "shape": {
        "columns": 11,
        "rows": 5
       }
      },
      "text/html": [
       "<div>\n",
       "<style scoped>\n",
       "    .dataframe tbody tr th:only-of-type {\n",
       "        vertical-align: middle;\n",
       "    }\n",
       "\n",
       "    .dataframe tbody tr th {\n",
       "        vertical-align: top;\n",
       "    }\n",
       "\n",
       "    .dataframe thead th {\n",
       "        text-align: right;\n",
       "    }\n",
       "</style>\n",
       "<table border=\"1\" class=\"dataframe\">\n",
       "  <thead>\n",
       "    <tr style=\"text-align: right;\">\n",
       "      <th></th>\n",
       "      <th>Age</th>\n",
       "      <th>Gender</th>\n",
       "      <th>BMI</th>\n",
       "      <th>Blood Pressure</th>\n",
       "      <th>FBS</th>\n",
       "      <th>HbA1c</th>\n",
       "      <th>Family History of Diabetes</th>\n",
       "      <th>Smoking</th>\n",
       "      <th>Diet</th>\n",
       "      <th>Exercise</th>\n",
       "      <th>Diagnosis</th>\n",
       "    </tr>\n",
       "  </thead>\n",
       "  <tbody>\n",
       "    <tr>\n",
       "      <th>0</th>\n",
       "      <td>45</td>\n",
       "      <td>1</td>\n",
       "      <td>25.0</td>\n",
       "      <td>2</td>\n",
       "      <td>100</td>\n",
       "      <td>5.7</td>\n",
       "      <td>0</td>\n",
       "      <td>0</td>\n",
       "      <td>0</td>\n",
       "      <td>1</td>\n",
       "      <td>0</td>\n",
       "    </tr>\n",
       "    <tr>\n",
       "      <th>1</th>\n",
       "      <td>55</td>\n",
       "      <td>0</td>\n",
       "      <td>30.0</td>\n",
       "      <td>0</td>\n",
       "      <td>120</td>\n",
       "      <td>6.4</td>\n",
       "      <td>1</td>\n",
       "      <td>1</td>\n",
       "      <td>1</td>\n",
       "      <td>0</td>\n",
       "      <td>1</td>\n",
       "    </tr>\n",
       "    <tr>\n",
       "      <th>2</th>\n",
       "      <td>65</td>\n",
       "      <td>1</td>\n",
       "      <td>35.0</td>\n",
       "      <td>0</td>\n",
       "      <td>140</td>\n",
       "      <td>7.1</td>\n",
       "      <td>1</td>\n",
       "      <td>1</td>\n",
       "      <td>1</td>\n",
       "      <td>0</td>\n",
       "      <td>1</td>\n",
       "    </tr>\n",
       "    <tr>\n",
       "      <th>3</th>\n",
       "      <td>75</td>\n",
       "      <td>0</td>\n",
       "      <td>40.0</td>\n",
       "      <td>0</td>\n",
       "      <td>160</td>\n",
       "      <td>7.8</td>\n",
       "      <td>1</td>\n",
       "      <td>1</td>\n",
       "      <td>1</td>\n",
       "      <td>0</td>\n",
       "      <td>1</td>\n",
       "    </tr>\n",
       "    <tr>\n",
       "      <th>5</th>\n",
       "      <td>50</td>\n",
       "      <td>0</td>\n",
       "      <td>25.0</td>\n",
       "      <td>2</td>\n",
       "      <td>100</td>\n",
       "      <td>5.7</td>\n",
       "      <td>0</td>\n",
       "      <td>0</td>\n",
       "      <td>0</td>\n",
       "      <td>1</td>\n",
       "      <td>0</td>\n",
       "    </tr>\n",
       "  </tbody>\n",
       "</table>\n",
       "</div>"
      ],
      "text/plain": [
       "   Age  Gender   BMI  Blood Pressure  FBS  HbA1c  Family History of Diabetes  \\\n",
       "0   45       1  25.0               2  100    5.7                           0   \n",
       "1   55       0  30.0               0  120    6.4                           1   \n",
       "2   65       1  35.0               0  140    7.1                           1   \n",
       "3   75       0  40.0               0  160    7.8                           1   \n",
       "5   50       0  25.0               2  100    5.7                           0   \n",
       "\n",
       "   Smoking  Diet  Exercise  Diagnosis  \n",
       "0        0     0         1          0  \n",
       "1        1     1         0          1  \n",
       "2        1     1         0          1  \n",
       "3        1     1         0          1  \n",
       "5        0     0         1          0  "
      ]
     },
     "execution_count": 4,
     "metadata": {},
     "output_type": "execute_result"
    }
   ],
   "source": [
    "#Label Encoding\n",
    "from sklearn.preprocessing import LabelEncoder\n",
    "\n",
    "cat_col = [\"Gender\", \"Blood Pressure\", \"Family History of Diabetes\", \"Smoking\", \"Diet\", \"Exercise\", \"Diagnosis\"]\n",
    "le = LabelEncoder()\n",
    "\n",
    "for col in cat_col:\n",
    "    data[col] = le.fit_transform(data[col])\n",
    "    \n",
    "data.head()"
   ]
  },
  {
   "cell_type": "code",
   "execution_count": 13,
   "id": "d8e9a54f",
   "metadata": {},
   "outputs": [
    {
     "data": {
      "image/png": "[encoded data removed]",
      "text/plain": [
       "<Figure size 1000x600 with 2 Axes>"
      ]
     },
     "metadata": {},
     "output_type": "display_data"
    }
   ],
   "source": [
    "#EDA\n",
    "import seaborn as sns\n",
    "plt.figure(figsize=(10, 6))\n",
    "\n",
    "#binary encode target variable first\n",
    "corr = data.corr()\n",
    "sns.heatmap(corr, annot=True, cmap='RdBu_r', fmt='.2f')\n",
    "\n",
    "#formatting to highlight target variable\n",
    "import matplotlib.patches as patches\n",
    "\n",
    "ax = plt.gca()\n",
    "n = corr.columns.get_loc(\"Diagnosis\")  # get index of Diagnosis column\n",
    "i = corr.index.get_loc(\"Diagnosis\")\n",
    "border1 = patches.Rectangle((n, 0), 1, corr.shape[0], linewidth = 2, edgecolor = 'gold', facecolor = 'none')\n",
    "border2 = patches.Rectangle((0, i), corr.shape[0], 1, linewidth = 2, edgecolor = 'gold', facecolor = 'none')\n",
    "ax.add_patch(border1)\n",
    "ax.add_patch(border2)\n",
    "\n",
    "plt.title('Feature Correlation Heatmap')\n",
    "plt.show()"
   ]
  },
  {
   "cell_type": "markdown",
   "id": "a719aa13",
   "metadata": {},
   "source": [
    "Comparing this to the heatmap for the one hot encoded dataset, we see that the figures for correlation are still the same but the data is not accurate. Important information has been lost. For example, it shows that the correlation between age and a diabetes diagnosis is negative, but that doesn't mean anything."
   ]
  },
  {
   "cell_type": "code",
   "execution_count": 5,
   "id": "b01ffa6a",
   "metadata": {},
   "outputs": [
    {
     "name": "stdout",
     "output_type": "stream",
     "text": [
      "Index(['FBS', 'Family History of Diabetes', 'Smoking', 'Diet', 'Exercise'], dtype='object')\n"
     ]
    }
   ],
   "source": [
    "#Feature Selection; Removing irrelevant features, features that do not contribute to the target variable\n",
    "from sklearn.feature_selection import SelectKBest, f_classif\n",
    "\n",
    "selector = SelectKBest(score_func = f_classif, k = 5)\n",
    "x = data.drop([\"Diagnosis\"], axis = 1)\n",
    "y = data[\"Diagnosis\"]\n",
    "\n",
    "#impute missing values for BMI\n",
    "from sklearn.impute import SimpleImputer\n",
    "\n",
    "imputer = SimpleImputer(strategy='mean')  # or 'median', 'most_frequent'\n",
    "x_imputed = imputer.fit_transform(x)\n",
    "\n",
    "x_selected = selector.fit_transform(x_imputed, y)\n",
    "selected_features = x.columns[selector.get_support()]\n",
    "print(selected_features)\n"
   ]
  },
  {
   "cell_type": "code",
   "execution_count": null,
   "id": "1b2d054e",
   "metadata": {},
   "outputs": [],
   "source": [
    "x1 = data[selected_features] #dataframe with only selected features\n",
    "\n",
    "#now train-test split\n",
    "from sklearn.model_selection import train_test_split\n",
    "from sklearn.neighbors import KNeighborsClassifier\n",
    "\n",
    "x_train, x_test, y_train, y_test = train_test_split(x, y, test_size = 0.3, random_state = 10)\n",
    "knn = KNeighborsClassifier(n_neighbors = 5)\n",
    "\n",
    "#all features\n",
    "knn.fit(x_train, y_train)\n",
    "y_pred_knn = knn.predict(x_test)"
   ]
  },
  {
   "cell_type": "code",
   "execution_count": 7,
   "id": "d855dfad",
   "metadata": {},
   "outputs": [],
   "source": [
    "#selected features\n",
    "x1_train, x1_test, y1_train, y_test = train_test_split(x, y, test_size = 0.3, random_state = 10)\n",
    "knn_selected = KNeighborsClassifier(n_neighbors = 5)\n",
    "knn_selected.fit(x1_train, y_train)\n",
    "y_pred_knn1 = knn_selected.predict(x1_test)"
   ]
  },
  {
   "cell_type": "code",
   "execution_count": 9,
   "id": "69abd3fe",
   "metadata": {},
   "outputs": [],
   "source": [
    "#Now compare results from an SVM model\n",
    "from sklearn.svm import SVC\n",
    "\n",
    "svm = SVC(kernel='rbf', C = 1, probability = True, random_state = 10)\n",
    "svm_selected = SVC(kernel='rbf', C = 1, probability = True, random_state = 10)\n",
    "\n",
    "#training models\n",
    "#all features\n",
    "svm.fit(x_train,y_train)\n",
    "y_pred_svm = svm.predict(x_test)\n",
    "\n",
    "\n",
    "#selcted features\n",
    "svm_selected.fit(x1_train,y_train)\n",
    "y_pred_svm1 = svm_selected.predict(x1_test)"
   ]
  },
  {
   "cell_type": "code",
   "execution_count": null,
   "id": "432d2f25",
   "metadata": {},
   "outputs": [],
   "source": [
    "# Classification reports for models using label encoded data\n",
    "\n",
    "from sklearn.metrics import classification_report\n",
    "\n",
    "print(f\"KNN_Selected Performance:\\n\", classification_report(y_test, y_pred_knn1))\n",
    "print(\"SVM_Selected Performance:\\n\", classification_report(y_test, y_pred_svm1))"
   ]
  },
  {
   "cell_type": "code",
   "execution_count": 14,
   "id": "f84670a6",
   "metadata": {},
   "outputs": [
    {
     "data": {
      "text/plain": [
       "<Axes: >"
      ]
     },
     "execution_count": 14,
     "metadata": {},
     "output_type": "execute_result"
    },
    {
     "data": {
      "image/png": "[encoded data removed]",
      "text/plain": [
       "<Figure size 640x480 with 2 Axes>"
      ]
     },
     "metadata": {},
     "output_type": "display_data"
    }
   ],
   "source": [
    "#Create Confusion Matrix - it shows labelwise performance of the model\n",
    "from sklearn.metrics import confusion_matrix\n",
    "\n",
    "cm = confusion_matrix(y_test, y_pred_svm)\n",
    "sns.heatmap(cm, annot = True)"
   ]
  },
  {
   "cell_type": "markdown",
   "id": "cc9ec172",
   "metadata": {},
   "source": [
    "This matrix is the same as for the one hot encoded dataset.\n",
    "\n",
    "In conclusion, the numerical side of the work is not affected at all, but when it comes to interpreting the categorical data, the necessary information has been lost through label encoding."
   ]
  }
 ],
 "metadata": {
  "kernelspec": {
   "display_name": "Python 3",
   "language": "python",
   "name": "python3"
  },
  "language_info": {
   "codemirror_mode": {
    "name": "ipython",
    "version": 3
   },
   "file_extension": ".py",
   "mimetype": "text/x-python",
   "name": "python",
   "nbconvert_exporter": "python",
   "pygments_lexer": "ipython3",
   "version": "3.11.9"
  }
 },
 "nbformat": 4,
 "nbformat_minor": 5
}

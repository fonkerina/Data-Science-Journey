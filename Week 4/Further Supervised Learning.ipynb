{
 "cells": [
  {
   "cell_type": "code",
   "execution_count": 2,
   "id": "9a137ae3",
   "metadata": {},
   "outputs": [
    {
     "name": "stdout",
     "output_type": "stream",
     "text": [
      "Dataset Shape: (129, 5)\n",
      "\n",
      "First 5 Rows:\n",
      "    sepal_length  sepal_width  petal_length  petal_width      species\n",
      "0           5.1          3.5           1.4          0.2  Iris-setosa\n",
      "1           4.9          3.0           1.4          0.2  Iris-setosa\n",
      "2           4.7          3.2           1.3          0.2  Iris-setosa\n",
      "3           4.6          3.1           1.5          0.2  Iris-setosa\n",
      "4           5.0          3.6           1.4          0.2  Iris-setosa\n"
     ]
    }
   ],
   "source": [
    "import pandas as pd\n",
    "import numpy as np\n",
    "\n",
    "df = pd.read_csv(\"IRIS.csv\")\n",
    "print(\"Dataset Shape:\", df.shape)\n",
    "print(\"\\nFirst 5 Rows:\\n\", df.head())"
   ]
  },
  {
   "cell_type": "code",
   "execution_count": 3,
   "id": "6caa3b4c",
   "metadata": {},
   "outputs": [
    {
     "data": {
      "text/plain": [
       "array(['Iris-setosa', 'Iris-versicolor', 'Iris-virginica'], dtype=object)"
      ]
     },
     "execution_count": 3,
     "metadata": {},
     "output_type": "execute_result"
    }
   ],
   "source": [
    "# Check number of classes \n",
    "pd.unique(df[\"species\"])"
   ]
  },
  {
   "cell_type": "code",
   "execution_count": 4,
   "id": "c1f88d7c",
   "metadata": {},
   "outputs": [
    {
     "data": {
      "text/plain": [
       "array([0, 1, 2])"
      ]
     },
     "execution_count": 4,
     "metadata": {},
     "output_type": "execute_result"
    }
   ],
   "source": [
    "# Preprocessing\n",
    "# Encode the target variable\n",
    "from sklearn.preprocessing import StandardScaler, LabelEncoder\n",
    "\n",
    "if df[\"species\"].dtype == 'object':\n",
    "    le = LabelEncoder()\n",
    "    df[\"species\"] = le.fit_transform(df[\"species\"])\n",
    "\n",
    "pd.unique(df[\"species\"])"
   ]
  },
  {
   "cell_type": "code",
   "execution_count": 5,
   "id": "d6af4c16",
   "metadata": {},
   "outputs": [
    {
     "name": "stdout",
     "output_type": "stream",
     "text": [
      "Number of samples in each class: species\n",
      "0    50\n",
      "1    50\n",
      "2    29\n",
      "Name: count, dtype: int64\n"
     ]
    }
   ],
   "source": [
    "# Check for dataset imbalance\n",
    "print(\"Number of samples in each class:\", df[\"species\"].value_counts())\n"
   ]
  },
  {
   "cell_type": "code",
   "execution_count": 8,
   "id": "e53efaff",
   "metadata": {},
   "outputs": [
    {
     "data": {
      "text/plain": [
       "{np.int64(0): np.float64(0.86),\n",
       " np.int64(1): np.float64(0.86),\n",
       " np.int64(2): np.float64(1.4827586206896552)}"
      ]
     },
     "execution_count": 8,
     "metadata": {},
     "output_type": "execute_result"
    }
   ],
   "source": [
    "# Now balance the dataset\n",
    "from sklearn.utils.class_weight import compute_class_weight, compute_sample_weight\n",
    "\n",
    "# compute class weights for each instance\n",
    "class_weights = compute_class_weight(class_weight = 'balanced', classes = np.unique(df[\"species\"]), y = df[\"species\"])\n",
    "class_weights_dict = {cls: weight for cls, weight in zip(np.unique(df[\"species\"]), class_weights)}\n",
    "\n",
    "# compute sample weights for each instance\n",
    "sample_weights = compute_sample_weight(class_weight = class_weights_dict, y = df[\"species\"])\n",
    "\n",
    "class_weights_dict"
   ]
  },
  {
   "cell_type": "code",
   "execution_count": 9,
   "id": "aca7971c",
   "metadata": {},
   "outputs": [],
   "source": [
    "# Split features and target variable\n",
    "from sklearn.model_selection import train_test_split, GridSearchCV, cross_val_score\n",
    " \n",
    "X = df.drop(\"species\", axis = 1)\n",
    "y = df[\"species\"]\n",
    "\n",
    "# feature scaling\n",
    "scaler = StandardScaler()\n",
    "X_scaled = scaler.fit_transform(X)"
   ]
  },
  {
   "cell_type": "code",
   "execution_count": 10,
   "id": "853068e0",
   "metadata": {},
   "outputs": [],
   "source": [
    "# train-test split\n",
    "X_train, X_test, y_train, y_test, sw_train, sw_test = train_test_split(X_scaled, y, sample_weights, test_size = 0.3, stratify = y, random_state = 42)"
   ]
  },
  {
   "cell_type": "markdown",
   "id": "8ba13a08",
   "metadata": {},
   "source": [
    "#### Assignment 1 - perform EDA on the dataset"
   ]
  },
  {
   "cell_type": "code",
   "execution_count": null,
   "id": "bcdf2fb6",
   "metadata": {},
   "outputs": [],
   "source": [
    "# ASSIGNMENT BEGIN\n",
    "# correlation analysis, time series analysis, anomaly detection, null/missing values \n"
   ]
  },
  {
   "cell_type": "code",
   "execution_count": 12,
   "id": "a3f792f3",
   "metadata": {},
   "outputs": [
    {
     "name": "stdout",
     "output_type": "stream",
     "text": [
      "Logistic Regression (OVR) Performance: \n",
      "              precision    recall  f1-score   support\n",
      "\n",
      "           0       1.00      1.00      1.00        15\n",
      "           1       0.93      0.87      0.90        15\n",
      "           2       0.80      0.89      0.84         9\n",
      "\n",
      "    accuracy                           0.92        39\n",
      "   macro avg       0.91      0.92      0.91        39\n",
      "weighted avg       0.93      0.92      0.92        39\n",
      "\n",
      "Confusion Matrix:\n",
      " [[15  0  0]\n",
      " [ 0 13  2]\n",
      " [ 0  1  8]]\n"
     ]
    }
   ],
   "source": [
    "#ASSIGNMENT END\n",
    "# Multiclass Classification without dataset balancing\n",
    "# LogReg (OVR)\n",
    "from sklearn.linear_model import LogisticRegression\n",
    "from sklearn.multiclass import OneVsRestClassifier, OneVsOneClassifier\n",
    "from sklearn.metrics import confusion_matrix, classification_report, accuracy_score, precision_score, recall_score, f1_score, log_loss, roc_auc_score, roc_curve\n",
    "\n",
    "lr_ovr = OneVsRestClassifier(LogisticRegression())\n",
    "lr_ovr.fit(X_train, y_train)\n",
    "y_pred_lrovr = lr_ovr.predict(X_test)\n",
    "\n",
    "print(\"Logistic Regression (OVR) Performance: \")\n",
    "print(classification_report(y_test, y_pred_lrovr))\n",
    "\n",
    "print(\"Confusion Matrix:\\n\", confusion_matrix(y_test, y_pred_lrovr))\n"
   ]
  },
  {
   "cell_type": "code",
   "execution_count": 15,
   "id": "f99087ee",
   "metadata": {},
   "outputs": [
    {
     "name": "stdout",
     "output_type": "stream",
     "text": [
      "\n",
      "Logistic Regression (One-vs-Rest) Performance balanced weights:\n",
      "              precision    recall  f1-score   support\n",
      "\n",
      "           0       1.00      1.00      1.00        15\n",
      "           1       1.00      0.60      0.75        15\n",
      "           2       0.60      1.00      0.75         9\n",
      "\n",
      "    accuracy                           0.85        39\n",
      "   macro avg       0.87      0.87      0.83        39\n",
      "weighted avg       0.91      0.85      0.85        39\n",
      "\n",
      "Confusion Matrix:\n",
      "[[15  0  0]\n",
      " [ 0  9  6]\n",
      " [ 0  0  9]]\n"
     ]
    }
   ],
   "source": [
    "from sklearn import set_config\n",
    "\n",
    "# Enable metadata routing for OVRClassifier\n",
    "set_config(enable_metadata_routing = True)\n",
    "\n",
    "# train model with sample weights using OVR with Logistic Regression\n",
    "clf = OneVsRestClassifier(LogisticRegression(class_weight = class_weights_dict, max_iter=10000))\n",
    "clf.estimator.set_fit_request(sample_weight = True)  # Explicitly request sample_weight\n",
    "clf.fit(X_train, y_train, sample_weight = sw_train)\n",
    "\n",
    "y_pred = clf.predict(X_test)\n",
    "\n",
    "# Classification Report and Confusion Matrix\n",
    "print(\"\\nLogistic Regression (One-vs-Rest) Performance balanced weights:\")\n",
    "print(classification_report(y_test, y_pred))\n",
    "print(\"Confusion Matrix:\")\n",
    "print(confusion_matrix(y_test, y_pred))"
   ]
  }
 ],
 "metadata": {
  "kernelspec": {
   "display_name": "Python 3",
   "language": "python",
   "name": "python3"
  },
  "language_info": {
   "codemirror_mode": {
    "name": "ipython",
    "version": 3
   },
   "file_extension": ".py",
   "mimetype": "text/x-python",
   "name": "python",
   "nbconvert_exporter": "python",
   "pygments_lexer": "ipython3",
   "version": "3.11.9"
  }
 },
 "nbformat": 4,
 "nbformat_minor": 5
}

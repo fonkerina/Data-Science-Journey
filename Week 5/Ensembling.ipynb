{
 "cells": [
  {
   "cell_type": "code",
   "execution_count": 7,
   "id": "bc164785",
   "metadata": {},
   "outputs": [
    {
     "name": "stdout",
     "output_type": "stream",
     "text": [
      "Dataset Shape: (1500, 8)\n",
      "\n",
      "First 5 Rows:\n"
     ]
    },
    {
     "data": {
      "application/vnd.microsoft.datawrangler.viewer.v0+json": {
       "columns": [
        {
         "name": "index",
         "rawType": "int64",
         "type": "integer"
        },
        {
         "name": "booking_id",
         "rawType": "int64",
         "type": "integer"
        },
        {
         "name": "months_as_member",
         "rawType": "int64",
         "type": "integer"
        },
        {
         "name": "weight",
         "rawType": "float64",
         "type": "float"
        },
        {
         "name": "days_before",
         "rawType": "object",
         "type": "string"
        },
        {
         "name": "day_of_week",
         "rawType": "object",
         "type": "string"
        },
        {
         "name": "time",
         "rawType": "object",
         "type": "string"
        },
        {
         "name": "category",
         "rawType": "object",
         "type": "string"
        },
        {
         "name": "attended",
         "rawType": "int64",
         "type": "integer"
        }
       ],
       "ref": "967d6221-c6d2-4b5c-9103-a530c288fd4a",
       "rows": [
        [
         "0",
         "1",
         "17",
         "79.56",
         "8",
         "Wed",
         "PM",
         "Strength",
         "0"
        ],
        [
         "1",
         "2",
         "10",
         "79.01",
         "2",
         "Mon",
         "AM",
         "HIIT",
         "0"
        ],
        [
         "2",
         "3",
         "16",
         "74.53",
         "14",
         "Sun",
         "AM",
         "Strength",
         "0"
        ],
        [
         "3",
         "4",
         "5",
         "86.12",
         "10",
         "Fri",
         "AM",
         "Cycling",
         "0"
        ],
        [
         "4",
         "5",
         "15",
         "69.29",
         "8",
         "Thu",
         "AM",
         "HIIT",
         "0"
        ]
       ],
       "shape": {
        "columns": 8,
        "rows": 5
       }
      },
      "text/html": [
       "<div>\n",
       "<style scoped>\n",
       "    .dataframe tbody tr th:only-of-type {\n",
       "        vertical-align: middle;\n",
       "    }\n",
       "\n",
       "    .dataframe tbody tr th {\n",
       "        vertical-align: top;\n",
       "    }\n",
       "\n",
       "    .dataframe thead th {\n",
       "        text-align: right;\n",
       "    }\n",
       "</style>\n",
       "<table border=\"1\" class=\"dataframe\">\n",
       "  <thead>\n",
       "    <tr style=\"text-align: right;\">\n",
       "      <th></th>\n",
       "      <th>booking_id</th>\n",
       "      <th>months_as_member</th>\n",
       "      <th>weight</th>\n",
       "      <th>days_before</th>\n",
       "      <th>day_of_week</th>\n",
       "      <th>time</th>\n",
       "      <th>category</th>\n",
       "      <th>attended</th>\n",
       "    </tr>\n",
       "  </thead>\n",
       "  <tbody>\n",
       "    <tr>\n",
       "      <th>0</th>\n",
       "      <td>1</td>\n",
       "      <td>17</td>\n",
       "      <td>79.56</td>\n",
       "      <td>8</td>\n",
       "      <td>Wed</td>\n",
       "      <td>PM</td>\n",
       "      <td>Strength</td>\n",
       "      <td>0</td>\n",
       "    </tr>\n",
       "    <tr>\n",
       "      <th>1</th>\n",
       "      <td>2</td>\n",
       "      <td>10</td>\n",
       "      <td>79.01</td>\n",
       "      <td>2</td>\n",
       "      <td>Mon</td>\n",
       "      <td>AM</td>\n",
       "      <td>HIIT</td>\n",
       "      <td>0</td>\n",
       "    </tr>\n",
       "    <tr>\n",
       "      <th>2</th>\n",
       "      <td>3</td>\n",
       "      <td>16</td>\n",
       "      <td>74.53</td>\n",
       "      <td>14</td>\n",
       "      <td>Sun</td>\n",
       "      <td>AM</td>\n",
       "      <td>Strength</td>\n",
       "      <td>0</td>\n",
       "    </tr>\n",
       "    <tr>\n",
       "      <th>3</th>\n",
       "      <td>4</td>\n",
       "      <td>5</td>\n",
       "      <td>86.12</td>\n",
       "      <td>10</td>\n",
       "      <td>Fri</td>\n",
       "      <td>AM</td>\n",
       "      <td>Cycling</td>\n",
       "      <td>0</td>\n",
       "    </tr>\n",
       "    <tr>\n",
       "      <th>4</th>\n",
       "      <td>5</td>\n",
       "      <td>15</td>\n",
       "      <td>69.29</td>\n",
       "      <td>8</td>\n",
       "      <td>Thu</td>\n",
       "      <td>AM</td>\n",
       "      <td>HIIT</td>\n",
       "      <td>0</td>\n",
       "    </tr>\n",
       "  </tbody>\n",
       "</table>\n",
       "</div>"
      ],
      "text/plain": [
       "   booking_id  months_as_member  weight days_before day_of_week time  \\\n",
       "0           1                17   79.56           8         Wed   PM   \n",
       "1           2                10   79.01           2         Mon   AM   \n",
       "2           3                16   74.53          14         Sun   AM   \n",
       "3           4                 5   86.12          10         Fri   AM   \n",
       "4           5                15   69.29           8         Thu   AM   \n",
       "\n",
       "   category  attended  \n",
       "0  Strength         0  \n",
       "1      HIIT         0  \n",
       "2  Strength         0  \n",
       "3   Cycling         0  \n",
       "4      HIIT         0  "
      ]
     },
     "execution_count": 7,
     "metadata": {},
     "output_type": "execute_result"
    }
   ],
   "source": [
    "import pandas as pd\n",
    "import numpy as np\n",
    "import matplotlib.pyplot as plt\n",
    "\n",
    "df = pd.read_csv('fitness_class_2212.csv')  \n",
    "\n",
    "print(\"Dataset Shape:\", df.shape)\n",
    "print(\"\\nFirst 5 Rows:\")\n",
    "df.head()"
   ]
  },
  {
   "cell_type": "code",
   "execution_count": 8,
   "id": "ff7cf234",
   "metadata": {},
   "outputs": [
    {
     "name": "stdout",
     "output_type": "stream",
     "text": [
      "\n",
      "Missing Values:\n",
      "booking_id           0\n",
      "months_as_member     0\n",
      "weight              20\n",
      "days_before          0\n",
      "day_of_week          0\n",
      "time                 0\n",
      "category             0\n",
      "attended             0\n",
      "dtype: int64\n"
     ]
    }
   ],
   "source": [
    "print(\"\\nMissing Values:\")\n",
    "print(df.isnull().sum())"
   ]
  },
  {
   "cell_type": "code",
   "execution_count": 9,
   "id": "afcfd98b",
   "metadata": {},
   "outputs": [],
   "source": [
    "# Handle missing values\n",
    "# Option 1: Drop rows with missing values\n",
    "df = df.dropna()\n",
    "\n",
    "# Option 2: Impute missing values (uncomment below if you prefer imputation)\n",
    "# imputer = SimpleImputer(strategy='mean')\n",
    "# df = pd.DataFrame(imputer.fit_transform(df), columns=df.days_beforeumns)"
   ]
  },
  {
   "cell_type": "markdown",
   "id": "4f2ca8a0",
   "metadata": {},
   "source": [
    "#### Assignment 1 - perform EDA on the dataset"
   ]
  },
  {
   "cell_type": "code",
   "execution_count": 10,
   "id": "b4d9523e",
   "metadata": {},
   "outputs": [
    {
     "name": "stdout",
     "output_type": "stream",
     "text": [
      "<class 'pandas.core.frame.DataFrame'>\n",
      "Index: 1480 entries, 0 to 1499\n",
      "Data columns (total 8 columns):\n",
      " #   Column            Non-Null Count  Dtype  \n",
      "---  ------            --------------  -----  \n",
      " 0   booking_id        1480 non-null   int64  \n",
      " 1   months_as_member  1480 non-null   int64  \n",
      " 2   weight            1480 non-null   float64\n",
      " 3   days_before       1480 non-null   object \n",
      " 4   day_of_week       1480 non-null   object \n",
      " 5   time              1480 non-null   object \n",
      " 6   category          1480 non-null   object \n",
      " 7   attended          1480 non-null   int64  \n",
      "dtypes: float64(1), int64(3), object(4)\n",
      "memory usage: 104.1+ KB\n",
      "\n",
      "Null values:\n",
      " booking_id          0\n",
      "months_as_member    0\n",
      "weight              0\n",
      "days_before         0\n",
      "day_of_week         0\n",
      "time                0\n",
      "category            0\n",
      "attended            0\n",
      "dtype: int64\n",
      "\n",
      "Duplicate values: 0\n"
     ]
    }
   ],
   "source": [
    "# ASSIGNMENT BEGIN\n",
    "\n",
    "df.info() # check dataset structure\n",
    "print(f\"\\nNull values:\\n\", df.isnull().sum())\n",
    "print(f\"\\nDuplicate values:\", df.duplicated().sum())\n"
   ]
  },
  {
   "cell_type": "code",
   "execution_count": null,
   "id": "cebf1dfc",
   "metadata": {},
   "outputs": [
    {
     "data": {
      "application/vnd.microsoft.datawrangler.viewer.v0+json": {
       "columns": [
        {
         "name": "index",
         "rawType": "int64",
         "type": "integer"
        },
        {
         "name": "months_as_member",
         "rawType": "int64",
         "type": "integer"
        },
        {
         "name": "weight",
         "rawType": "float64",
         "type": "float"
        },
        {
         "name": "days_before",
         "rawType": "float64",
         "type": "float"
        },
        {
         "name": "attended",
         "rawType": "int64",
         "type": "integer"
        },
        {
         "name": "day_of_week_Fri",
         "rawType": "int64",
         "type": "integer"
        },
        {
         "name": "day_of_week_Fri.",
         "rawType": "int64",
         "type": "integer"
        },
        {
         "name": "day_of_week_Mon",
         "rawType": "int64",
         "type": "integer"
        },
        {
         "name": "day_of_week_Monday",
         "rawType": "int64",
         "type": "integer"
        },
        {
         "name": "day_of_week_Sat",
         "rawType": "int64",
         "type": "integer"
        },
        {
         "name": "day_of_week_Sun",
         "rawType": "int64",
         "type": "integer"
        },
        {
         "name": "day_of_week_Thu",
         "rawType": "int64",
         "type": "integer"
        },
        {
         "name": "day_of_week_Tue",
         "rawType": "int64",
         "type": "integer"
        },
        {
         "name": "day_of_week_Wed",
         "rawType": "int64",
         "type": "integer"
        },
        {
         "name": "day_of_week_Wednesday",
         "rawType": "int64",
         "type": "integer"
        },
        {
         "name": "time_AM",
         "rawType": "int64",
         "type": "integer"
        },
        {
         "name": "time_PM",
         "rawType": "int64",
         "type": "integer"
        },
        {
         "name": "category_unknown",
         "rawType": "int64",
         "type": "integer"
        },
        {
         "name": "category_Aqua",
         "rawType": "int64",
         "type": "integer"
        },
        {
         "name": "category_Cycling",
         "rawType": "int64",
         "type": "integer"
        },
        {
         "name": "category_HIIT",
         "rawType": "int64",
         "type": "integer"
        },
        {
         "name": "category_Strength",
         "rawType": "int64",
         "type": "integer"
        },
        {
         "name": "category_Yoga",
         "rawType": "int64",
         "type": "integer"
        }
       ],
       "ref": "3476849f-f183-46cc-ae36-2da751a64c9b",
       "rows": [
        [
         "0",
         "17",
         "79.56",
         "8.0",
         "0",
         "0",
         "0",
         "0",
         "0",
         "0",
         "0",
         "0",
         "0",
         "1",
         "0",
         "0",
         "1",
         "0",
         "0",
         "0",
         "0",
         "1",
         "0"
        ],
        [
         "1",
         "10",
         "79.01",
         "2.0",
         "0",
         "0",
         "0",
         "1",
         "0",
         "0",
         "0",
         "0",
         "0",
         "0",
         "0",
         "1",
         "0",
         "0",
         "0",
         "0",
         "1",
         "0",
         "0"
        ],
        [
         "2",
         "16",
         "74.53",
         "14.0",
         "0",
         "0",
         "0",
         "0",
         "0",
         "0",
         "1",
         "0",
         "0",
         "0",
         "0",
         "1",
         "0",
         "0",
         "0",
         "0",
         "0",
         "1",
         "0"
        ],
        [
         "3",
         "5",
         "86.12",
         "10.0",
         "0",
         "1",
         "0",
         "0",
         "0",
         "0",
         "0",
         "0",
         "0",
         "0",
         "0",
         "1",
         "0",
         "0",
         "0",
         "1",
         "0",
         "0",
         "0"
        ],
        [
         "4",
         "15",
         "69.29",
         "8.0",
         "0",
         "0",
         "0",
         "0",
         "0",
         "0",
         "0",
         "1",
         "0",
         "0",
         "0",
         "1",
         "0",
         "0",
         "0",
         "0",
         "1",
         "0",
         "0"
        ]
       ],
       "shape": {
        "columns": 22,
        "rows": 5
       }
      },
      "text/html": [
       "<div>\n",
       "<style scoped>\n",
       "    .dataframe tbody tr th:only-of-type {\n",
       "        vertical-align: middle;\n",
       "    }\n",
       "\n",
       "    .dataframe tbody tr th {\n",
       "        vertical-align: top;\n",
       "    }\n",
       "\n",
       "    .dataframe thead th {\n",
       "        text-align: right;\n",
       "    }\n",
       "</style>\n",
       "<table border=\"1\" class=\"dataframe\">\n",
       "  <thead>\n",
       "    <tr style=\"text-align: right;\">\n",
       "      <th></th>\n",
       "      <th>months_as_member</th>\n",
       "      <th>weight</th>\n",
       "      <th>days_before</th>\n",
       "      <th>attended</th>\n",
       "      <th>day_of_week_Fri</th>\n",
       "      <th>day_of_week_Fri.</th>\n",
       "      <th>day_of_week_Mon</th>\n",
       "      <th>day_of_week_Monday</th>\n",
       "      <th>day_of_week_Sat</th>\n",
       "      <th>day_of_week_Sun</th>\n",
       "      <th>...</th>\n",
       "      <th>day_of_week_Wed</th>\n",
       "      <th>day_of_week_Wednesday</th>\n",
       "      <th>time_AM</th>\n",
       "      <th>time_PM</th>\n",
       "      <th>category_unknown</th>\n",
       "      <th>category_Aqua</th>\n",
       "      <th>category_Cycling</th>\n",
       "      <th>category_HIIT</th>\n",
       "      <th>category_Strength</th>\n",
       "      <th>category_Yoga</th>\n",
       "    </tr>\n",
       "  </thead>\n",
       "  <tbody>\n",
       "    <tr>\n",
       "      <th>0</th>\n",
       "      <td>17</td>\n",
       "      <td>79.56</td>\n",
       "      <td>8.0</td>\n",
       "      <td>0</td>\n",
       "      <td>0</td>\n",
       "      <td>0</td>\n",
       "      <td>0</td>\n",
       "      <td>0</td>\n",
       "      <td>0</td>\n",
       "      <td>0</td>\n",
       "      <td>...</td>\n",
       "      <td>1</td>\n",
       "      <td>0</td>\n",
       "      <td>0</td>\n",
       "      <td>1</td>\n",
       "      <td>0</td>\n",
       "      <td>0</td>\n",
       "      <td>0</td>\n",
       "      <td>0</td>\n",
       "      <td>1</td>\n",
       "      <td>0</td>\n",
       "    </tr>\n",
       "    <tr>\n",
       "      <th>1</th>\n",
       "      <td>10</td>\n",
       "      <td>79.01</td>\n",
       "      <td>2.0</td>\n",
       "      <td>0</td>\n",
       "      <td>0</td>\n",
       "      <td>0</td>\n",
       "      <td>1</td>\n",
       "      <td>0</td>\n",
       "      <td>0</td>\n",
       "      <td>0</td>\n",
       "      <td>...</td>\n",
       "      <td>0</td>\n",
       "      <td>0</td>\n",
       "      <td>1</td>\n",
       "      <td>0</td>\n",
       "      <td>0</td>\n",
       "      <td>0</td>\n",
       "      <td>0</td>\n",
       "      <td>1</td>\n",
       "      <td>0</td>\n",
       "      <td>0</td>\n",
       "    </tr>\n",
       "    <tr>\n",
       "      <th>2</th>\n",
       "      <td>16</td>\n",
       "      <td>74.53</td>\n",
       "      <td>14.0</td>\n",
       "      <td>0</td>\n",
       "      <td>0</td>\n",
       "      <td>0</td>\n",
       "      <td>0</td>\n",
       "      <td>0</td>\n",
       "      <td>0</td>\n",
       "      <td>1</td>\n",
       "      <td>...</td>\n",
       "      <td>0</td>\n",
       "      <td>0</td>\n",
       "      <td>1</td>\n",
       "      <td>0</td>\n",
       "      <td>0</td>\n",
       "      <td>0</td>\n",
       "      <td>0</td>\n",
       "      <td>0</td>\n",
       "      <td>1</td>\n",
       "      <td>0</td>\n",
       "    </tr>\n",
       "    <tr>\n",
       "      <th>3</th>\n",
       "      <td>5</td>\n",
       "      <td>86.12</td>\n",
       "      <td>10.0</td>\n",
       "      <td>0</td>\n",
       "      <td>1</td>\n",
       "      <td>0</td>\n",
       "      <td>0</td>\n",
       "      <td>0</td>\n",
       "      <td>0</td>\n",
       "      <td>0</td>\n",
       "      <td>...</td>\n",
       "      <td>0</td>\n",
       "      <td>0</td>\n",
       "      <td>1</td>\n",
       "      <td>0</td>\n",
       "      <td>0</td>\n",
       "      <td>0</td>\n",
       "      <td>1</td>\n",
       "      <td>0</td>\n",
       "      <td>0</td>\n",
       "      <td>0</td>\n",
       "    </tr>\n",
       "    <tr>\n",
       "      <th>4</th>\n",
       "      <td>15</td>\n",
       "      <td>69.29</td>\n",
       "      <td>8.0</td>\n",
       "      <td>0</td>\n",
       "      <td>0</td>\n",
       "      <td>0</td>\n",
       "      <td>0</td>\n",
       "      <td>0</td>\n",
       "      <td>0</td>\n",
       "      <td>0</td>\n",
       "      <td>...</td>\n",
       "      <td>0</td>\n",
       "      <td>0</td>\n",
       "      <td>1</td>\n",
       "      <td>0</td>\n",
       "      <td>0</td>\n",
       "      <td>0</td>\n",
       "      <td>0</td>\n",
       "      <td>1</td>\n",
       "      <td>0</td>\n",
       "      <td>0</td>\n",
       "    </tr>\n",
       "  </tbody>\n",
       "</table>\n",
       "<p>5 rows × 22 columns</p>\n",
       "</div>"
      ],
      "text/plain": [
       "   months_as_member  weight  days_before  attended  day_of_week_Fri  \\\n",
       "0                17   79.56          8.0         0                0   \n",
       "1                10   79.01          2.0         0                0   \n",
       "2                16   74.53         14.0         0                0   \n",
       "3                 5   86.12         10.0         0                1   \n",
       "4                15   69.29          8.0         0                0   \n",
       "\n",
       "   day_of_week_Fri.  day_of_week_Mon  day_of_week_Monday  day_of_week_Sat  \\\n",
       "0                 0                0                   0                0   \n",
       "1                 0                1                   0                0   \n",
       "2                 0                0                   0                0   \n",
       "3                 0                0                   0                0   \n",
       "4                 0                0                   0                0   \n",
       "\n",
       "   day_of_week_Sun  ...  day_of_week_Wed  day_of_week_Wednesday  time_AM  \\\n",
       "0                0  ...                1                      0        0   \n",
       "1                0  ...                0                      0        1   \n",
       "2                1  ...                0                      0        1   \n",
       "3                0  ...                0                      0        1   \n",
       "4                0  ...                0                      0        1   \n",
       "\n",
       "   time_PM  category_unknown  category_Aqua  category_Cycling  category_HIIT  \\\n",
       "0        1                 0              0                 0              0   \n",
       "1        0                 0              0                 0              1   \n",
       "2        0                 0              0                 0              0   \n",
       "3        0                 0              0                 1              0   \n",
       "4        0                 0              0                 0              1   \n",
       "\n",
       "   category_Strength  category_Yoga  \n",
       "0                  1              0  \n",
       "1                  0              0  \n",
       "2                  1              0  \n",
       "3                  0              0  \n",
       "4                  0              0  \n",
       "\n",
       "[5 rows x 22 columns]"
      ]
     },
     "execution_count": 15,
     "metadata": {},
     "output_type": "execute_result"
    }
   ],
   "source": [
    "# Dataset Formatting\n",
    "\n",
    "# remove booking_id from analysis as it is just an identifier like an index\n",
    "df2 = df.drop(\"booking_id\", axis = 1)\n",
    "\n",
    "df2[\"days_before\"] = df2[\"days_before\"].str.extract(r'(\\d+)') # change days_before to float\n",
    "df2[\"days_before\"] = df2[\"days_before\"].astype(float)\n",
    "\n",
    "cat = df2.select_dtypes(include = ['object']).columns # one hot encode days of the week, category, attended and time (AM/PM)\n",
    "encoded_df = pd.get_dummies(df2, columns = cat, dtype = int)\n",
    "\n",
    "\n",
    "encoded_df = encoded_df.rename(columns = {\"category_-\":\"category_unspecified\"})\n",
    "\n",
    "encoded_df.head()"
   ]
  },
  {
   "cell_type": "code",
   "execution_count": null,
   "id": "f0a7f062",
   "metadata": {},
   "outputs": [],
   "source": [
    "# univariate analysis of each feature\n",
    "print(encoded_df.describe()) # count is 129; ranges, mean, max and min are reasonable  \n",
    "\n",
    "import seaborn as sns\n",
    "\n",
    "sns.countplot(x = \"attended\", data = df, hue = \"species\", palette = \"Set2\") "
   ]
  },
  {
   "cell_type": "code",
   "execution_count": null,
   "id": "fc5dd41e",
   "metadata": {},
   "outputs": [],
   "source": []
  }
 ],
 "metadata": {
  "kernelspec": {
   "display_name": "Python 3",
   "language": "python",
   "name": "python3"
  },
  "language_info": {
   "codemirror_mode": {
    "name": "ipython",
    "version": 3
   },
   "file_extension": ".py",
   "mimetype": "text/x-python",
   "name": "python",
   "nbconvert_exporter": "python",
   "pygments_lexer": "ipython3",
   "version": "3.11.9"
  }
 },
 "nbformat": 4,
 "nbformat_minor": 5
}

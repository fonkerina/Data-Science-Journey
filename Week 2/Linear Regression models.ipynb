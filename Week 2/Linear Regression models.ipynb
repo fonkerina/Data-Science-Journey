{
 "cells": [
  {
   "cell_type": "code",
   "execution_count": 5,
   "metadata": {},
   "outputs": [
    {
     "data": {
      "application/vnd.microsoft.datawrangler.viewer.v0+json": {
       "columns": [
        {
         "name": "index",
         "rawType": "int64",
         "type": "integer"
        },
        {
         "name": "Location",
         "rawType": "object",
         "type": "string"
        },
        {
         "name": "Temperature (°C)",
         "rawType": "float64",
         "type": "float"
        },
        {
         "name": "Feels Like (°C)",
         "rawType": "float64",
         "type": "float"
        },
        {
         "name": "Humidity (%)",
         "rawType": "float64",
         "type": "float"
        },
        {
         "name": "Wind Speed (kph)",
         "rawType": "float64",
         "type": "float"
        },
        {
         "name": "Cloud Cover (%)",
         "rawType": "int64",
         "type": "integer"
        },
        {
         "name": "Pressure (mb)",
         "rawType": "float64",
         "type": "float"
        },
        {
         "name": "UV Index",
         "rawType": "int64",
         "type": "integer"
        },
        {
         "name": "Visibility (km)",
         "rawType": "int64",
         "type": "integer"
        }
       ],
       "ref": "70f8979d-caac-41c7-ad2f-482d13209b3c",
       "rows": [
        [
         "0",
         "New York",
         "8.3",
         "4.5",
         "40.0",
         "29.9",
         "75",
         "1003.0",
         "2",
         "16"
        ],
        [
         "1",
         "New York",
         "8.3",
         "4.5",
         "40.0",
         "29.9",
         "75",
         "1003.0",
         "2",
         "16"
        ],
        [
         "2",
         "New York",
         "8.3",
         "4.5",
         "40.0",
         "29.9",
         "75",
         "1003.0",
         "2",
         "16"
        ],
        [
         "3",
         "New York",
         "8.3",
         "4.5",
         "40.0",
         "29.9",
         "75",
         "1003.0",
         "2",
         "16"
        ],
        [
         "4",
         "New York",
         "8.3",
         "4.5",
         "40.0",
         "29.9",
         "75",
         "1003.0",
         "2",
         "16"
        ]
       ],
       "shape": {
        "columns": 9,
        "rows": 5
       }
      },
      "text/html": [
       "<div>\n",
       "<style scoped>\n",
       "    .dataframe tbody tr th:only-of-type {\n",
       "        vertical-align: middle;\n",
       "    }\n",
       "\n",
       "    .dataframe tbody tr th {\n",
       "        vertical-align: top;\n",
       "    }\n",
       "\n",
       "    .dataframe thead th {\n",
       "        text-align: right;\n",
       "    }\n",
       "</style>\n",
       "<table border=\"1\" class=\"dataframe\">\n",
       "  <thead>\n",
       "    <tr style=\"text-align: right;\">\n",
       "      <th></th>\n",
       "      <th>Location</th>\n",
       "      <th>Temperature (°C)</th>\n",
       "      <th>Feels Like (°C)</th>\n",
       "      <th>Humidity (%)</th>\n",
       "      <th>Wind Speed (kph)</th>\n",
       "      <th>Cloud Cover (%)</th>\n",
       "      <th>Pressure (mb)</th>\n",
       "      <th>UV Index</th>\n",
       "      <th>Visibility (km)</th>\n",
       "    </tr>\n",
       "  </thead>\n",
       "  <tbody>\n",
       "    <tr>\n",
       "      <th>0</th>\n",
       "      <td>New York</td>\n",
       "      <td>8.3</td>\n",
       "      <td>4.5</td>\n",
       "      <td>40.0</td>\n",
       "      <td>29.9</td>\n",
       "      <td>75</td>\n",
       "      <td>1003.0</td>\n",
       "      <td>2</td>\n",
       "      <td>16</td>\n",
       "    </tr>\n",
       "    <tr>\n",
       "      <th>1</th>\n",
       "      <td>New York</td>\n",
       "      <td>8.3</td>\n",
       "      <td>4.5</td>\n",
       "      <td>40.0</td>\n",
       "      <td>29.9</td>\n",
       "      <td>75</td>\n",
       "      <td>1003.0</td>\n",
       "      <td>2</td>\n",
       "      <td>16</td>\n",
       "    </tr>\n",
       "    <tr>\n",
       "      <th>2</th>\n",
       "      <td>New York</td>\n",
       "      <td>8.3</td>\n",
       "      <td>4.5</td>\n",
       "      <td>40.0</td>\n",
       "      <td>29.9</td>\n",
       "      <td>75</td>\n",
       "      <td>1003.0</td>\n",
       "      <td>2</td>\n",
       "      <td>16</td>\n",
       "    </tr>\n",
       "    <tr>\n",
       "      <th>3</th>\n",
       "      <td>New York</td>\n",
       "      <td>8.3</td>\n",
       "      <td>4.5</td>\n",
       "      <td>40.0</td>\n",
       "      <td>29.9</td>\n",
       "      <td>75</td>\n",
       "      <td>1003.0</td>\n",
       "      <td>2</td>\n",
       "      <td>16</td>\n",
       "    </tr>\n",
       "    <tr>\n",
       "      <th>4</th>\n",
       "      <td>New York</td>\n",
       "      <td>8.3</td>\n",
       "      <td>4.5</td>\n",
       "      <td>40.0</td>\n",
       "      <td>29.9</td>\n",
       "      <td>75</td>\n",
       "      <td>1003.0</td>\n",
       "      <td>2</td>\n",
       "      <td>16</td>\n",
       "    </tr>\n",
       "  </tbody>\n",
       "</table>\n",
       "</div>"
      ],
      "text/plain": [
       "   Location  Temperature (°C)  Feels Like (°C)  Humidity (%)  \\\n",
       "0  New York               8.3              4.5          40.0   \n",
       "1  New York               8.3              4.5          40.0   \n",
       "2  New York               8.3              4.5          40.0   \n",
       "3  New York               8.3              4.5          40.0   \n",
       "4  New York               8.3              4.5          40.0   \n",
       "\n",
       "   Wind Speed (kph)  Cloud Cover (%)  Pressure (mb)  UV Index  Visibility (km)  \n",
       "0              29.9               75         1003.0         2               16  \n",
       "1              29.9               75         1003.0         2               16  \n",
       "2              29.9               75         1003.0         2               16  \n",
       "3              29.9               75         1003.0         2               16  \n",
       "4              29.9               75         1003.0         2               16  "
      ]
     },
     "execution_count": 5,
     "metadata": {},
     "output_type": "execute_result"
    }
   ],
   "source": [
    "# %%\n",
    "import pandas as pd\n",
    "import numpy as np\n",
    "import sklearn as skl\n",
    "\n",
    "data = pd.read_csv(\"weather_data_extended.csv\")\n",
    "data.head()"
   ]
  },
  {
   "cell_type": "code",
   "execution_count": 6,
   "metadata": {},
   "outputs": [
    {
     "name": "stdout",
     "output_type": "stream",
     "text": [
      "<class 'pandas.core.frame.DataFrame'>\n",
      "RangeIndex: 800 entries, 0 to 799\n",
      "Data columns (total 9 columns):\n",
      " #   Column            Non-Null Count  Dtype  \n",
      "---  ------            --------------  -----  \n",
      " 0   Location          800 non-null    object \n",
      " 1   Temperature (°C)  800 non-null    float64\n",
      " 2   Feels Like (°C)   800 non-null    float64\n",
      " 3   Humidity (%)      798 non-null    float64\n",
      " 4   Wind Speed (kph)  798 non-null    float64\n",
      " 5   Cloud Cover (%)   800 non-null    int64  \n",
      " 6   Pressure (mb)     798 non-null    float64\n",
      " 7   UV Index          800 non-null    int64  \n",
      " 8   Visibility (km)   800 non-null    int64  \n",
      "dtypes: float64(5), int64(3), object(1)\n",
      "memory usage: 56.4+ KB\n"
     ]
    },
    {
     "data": {
      "application/vnd.microsoft.datawrangler.viewer.v0+json": {
       "columns": [
        {
         "name": "index",
         "rawType": "object",
         "type": "string"
        },
        {
         "name": "0",
         "rawType": "int64",
         "type": "integer"
        }
       ],
       "ref": "b76c1eb2-7edf-4c3b-94b8-9ce6fc664635",
       "rows": [
        [
         "Location",
         "0"
        ],
        [
         "Temperature (°C)",
         "0"
        ],
        [
         "Feels Like (°C)",
         "0"
        ],
        [
         "Humidity (%)",
         "2"
        ],
        [
         "Wind Speed (kph)",
         "2"
        ],
        [
         "Cloud Cover (%)",
         "0"
        ],
        [
         "Pressure (mb)",
         "2"
        ],
        [
         "UV Index",
         "0"
        ],
        [
         "Visibility (km)",
         "0"
        ]
       ],
       "shape": {
        "columns": 1,
        "rows": 9
       }
      },
      "text/plain": [
       "Location            0\n",
       "Temperature (°C)    0\n",
       "Feels Like (°C)     0\n",
       "Humidity (%)        2\n",
       "Wind Speed (kph)    2\n",
       "Cloud Cover (%)     0\n",
       "Pressure (mb)       2\n",
       "UV Index            0\n",
       "Visibility (km)     0\n",
       "dtype: int64"
      ]
     },
     "execution_count": 6,
     "metadata": {},
     "output_type": "execute_result"
    }
   ],
   "source": [
    "data.describe()\n",
    "data.info()\n",
    "data.isnull().sum()"
   ]
  },
  {
   "cell_type": "code",
   "execution_count": 7,
   "metadata": {},
   "outputs": [
    {
     "name": "stdout",
     "output_type": "stream",
     "text": [
      "<class 'pandas.core.frame.DataFrame'>\n",
      "Index: 794 entries, 0 to 799\n",
      "Data columns (total 9 columns):\n",
      " #   Column            Non-Null Count  Dtype  \n",
      "---  ------            --------------  -----  \n",
      " 0   Location          794 non-null    object \n",
      " 1   Temperature (°C)  794 non-null    float64\n",
      " 2   Feels Like (°C)   794 non-null    float64\n",
      " 3   Humidity (%)      794 non-null    float64\n",
      " 4   Wind Speed (kph)  794 non-null    float64\n",
      " 5   Cloud Cover (%)   794 non-null    int64  \n",
      " 6   Pressure (mb)     794 non-null    float64\n",
      " 7   UV Index          794 non-null    int64  \n",
      " 8   Visibility (km)   794 non-null    int64  \n",
      "dtypes: float64(5), int64(3), object(1)\n",
      "memory usage: 62.0+ KB\n"
     ]
    }
   ],
   "source": [
    "# imputation\n",
    "# now we deal with the null values by removing and replacing with estimated values\n",
    "\n",
    "data = data.dropna()\n",
    "data.info()"
   ]
  },
  {
   "cell_type": "code",
   "execution_count": 10,
   "metadata": {},
   "outputs": [
    {
     "data": {
      "image/png": "[encoded data removed]",
      "text/plain": [
       "<Figure size 1000x500 with 2 Axes>"
      ]
     },
     "metadata": {},
     "output_type": "display_data"
    }
   ],
   "source": [
    "#correlation\n",
    "\n",
    "import matplotlib.pyplot as plt\n",
    "import seaborn as sns\n",
    "\n",
    "numeric_data = data.drop('Location', axis = 1)\n",
    "corr = numeric_data.corr()\n",
    "plt.figure(figsize = (10,5))\n",
    "sns.heatmap(corr, fmt = '.2f')\n",
    "plt.show()"
   ]
  },
  {
   "cell_type": "code",
   "execution_count": 15,
   "metadata": {},
   "outputs": [
    {
     "data": {
      "image/png": "[encoded data removed]",
      "text/plain": [
       "<Figure size 1000x500 with 1 Axes>"
      ]
     },
     "metadata": {},
     "output_type": "display_data"
    }
   ],
   "source": [
    "#Outliers\n",
    "\n",
    "plt.figure(figsize=(10,5))\n",
    "sns.boxplot(data = data['Pressure (mb)'])\n",
    "plt.title(\"Boxplot for Pressure\")\n",
    "plt.show()"
   ]
  },
  {
   "cell_type": "code",
   "execution_count": 17,
   "metadata": {},
   "outputs": [
    {
     "name": "stdout",
     "output_type": "stream",
     "text": [
      "[[-0.85555556 -0.98290598 -1.71428571 ... -1.37931034  1.\n",
      "   6.        ]\n",
      " [-0.85555556 -0.98290598 -1.71428571 ... -1.37931034  1.\n",
      "   6.        ]\n",
      " [-0.85555556 -0.98290598 -1.71428571 ... -1.37931034  1.\n",
      "   6.        ]\n",
      " ...\n",
      " [ 1.          1.00854701  0.14285714 ... -0.13793103  0.\n",
      "   0.        ]\n",
      " [ 1.          1.00854701  0.14285714 ... -0.13793103  0.\n",
      "   0.        ]\n",
      " [ 1.          1.00854701  0.14285714 ... -0.13793103  0.\n",
      "   0.        ]]\n"
     ]
    }
   ],
   "source": [
    "from sklearn.preprocessing import RobustScaler\n",
    "\n",
    "scaled_numericdata = RobustScaler().fit_transform(numeric_data)\n",
    "print(scaled_numericdata)"
   ]
  },
  {
   "cell_type": "markdown",
   "metadata": {},
   "source": [
    "* Summary *\n",
    "Loaded Dataset and done a descriptive analysis\n",
    "EDA - handled missing values, outliers and scaled the data\n",
    "\n"
   ]
  },
  {
   "cell_type": "code",
   "execution_count": 22,
   "metadata": {},
   "outputs": [
    {
     "name": "stdout",
     "output_type": "stream",
     "text": [
      "R^2 value =  0.9981150675092603\n",
      "Mean Squared Error =  0.05562009400860349\n"
     ]
    }
   ],
   "source": [
    "# Create a linear regression model\n",
    "from sklearn.linear_model import LinearRegression\n",
    "\n",
    "model = LinearRegression()\n",
    "X = numeric_data.drop('Temperature (°C)', axis = 1)\n",
    "Y = numeric_data['Temperature (°C)']\n",
    "\n",
    "#scaling feature and label\n",
    "Xscaled = RobustScaler().fit_transform(X)\n",
    "#train test split\n",
    "from sklearn.model_selection import train_test_split\n",
    "\n",
    "Xtrain, Xtest, Ytrain, Ytest = train_test_split(Xscaled, Y, test_size=0.3, random_state=10)\n",
    "model = model.fit(Xtrain, Ytrain)\n",
    "\n",
    "#make predictions and evaluate the model\n",
    "from sklearn.metrics import r2_score, mean_squared_error\n",
    "ypred = model.predict(Xtest)\n",
    "r2 = r2_score(Ytest, ypred)\n",
    "\n",
    "print(\"R^2 value = \", r2)\n",
    "\n",
    "mse = mean_squared_error(Ytest, ypred)\n",
    "\n",
    "print(\"Mean Squared Error = \", mse)\n"
   ]
  }
 ],
 "metadata": {
  "kernelspec": {
   "display_name": "Python 3",
   "language": "python",
   "name": "python3"
  },
  "language_info": {
   "codemirror_mode": {
    "name": "ipython",
    "version": 3
   },
   "file_extension": ".py",
   "mimetype": "text/x-python",
   "name": "python",
   "nbconvert_exporter": "python",
   "pygments_lexer": "ipython3",
   "version": "3.11.9"
  }
 },
 "nbformat": 4,
 "nbformat_minor": 2
}
